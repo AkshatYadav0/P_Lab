{
 "cells": [
  {
   "cell_type": "markdown",
   "id": "e00ed732-c657-4db0-85b7-167907b382b1",
   "metadata": {
    "tags": []
   },
   "source": [
    "# GRU + Attention (with normalization)"
   ]
  },
  {
   "cell_type": "markdown",
   "id": "a5842913-716a-49ff-8f46-2d5e5a175c6d",
   "metadata": {
    "tags": []
   },
   "source": [
    "## Overview"
   ]
  },
  {
   "cell_type": "markdown",
   "id": "ef11f2fb-5269-4c19-8c01-9006215208e9",
   "metadata": {},
   "source": [
    "**This notebook extends the GRU Classifier model (movie watching) described in the [paper](https://journals.plos.org/ploscompbiol/article?id=10.1371/journal.pcbi.1008943)  by adding an `Attention Layer` and normalization**\n",
    "\n",
    "Attention was first presented by Dzmitry Bahdanau, et al. in their paper [Neural Machine Translation by Jointly Learning to Align and Translate](https://arxiv.org/abs/1409.0473).\n"
   ]
  },
  {
   "cell_type": "markdown",
   "id": "2cd10e05-5e39-4c34-897a-67151f7179e4",
   "metadata": {
    "tags": []
   },
   "source": [
    "---\n",
    "## Data"
   ]
  },
  {
   "cell_type": "markdown",
   "id": "3d315492-15a6-46b8-8527-1e65f9712314",
   "metadata": {},
   "source": [
    "**Data provided is already preprocessed but needs to be converted in model usabale format**"
   ]
  },
  {
   "cell_type": "code",
   "execution_count": 1,
   "id": "3f6f36f2-a0bf-4460-bc88-4906ed055872",
   "metadata": {},
   "outputs": [],
   "source": [
    "import torch\n",
    "import pickle\n",
    "import numpy as np\n",
    "import torch.nn as nn"
   ]
  },
  {
   "cell_type": "code",
   "execution_count": 2,
   "id": "e1556b2d-782b-41c5-ade7-86913ca18b6d",
   "metadata": {},
   "outputs": [
    {
     "name": "stdout",
     "output_type": "stream",
     "text": [
      "dict_keys(['testretest', 'twomen', 'bridgeville', 'pockets', 'overcome', 'inception', 'socialnet', 'oceans', 'flower', 'hotel', 'garden', 'dreary', 'homealone', 'brokovich', 'starwars'])\n"
     ]
    }
   ],
   "source": [
    "with open('HCP_movie_watching.pkl','rb') as f:\n",
    "    TS = pickle.load(f)\n",
    "print(TS.keys())"
   ]
  },
  {
   "cell_type": "markdown",
   "id": "187648f5-bbf9-4131-bfd9-b9522b6ea286",
   "metadata": {
    "tags": []
   },
   "source": [
    "### Dataset organization\n",
    "`TS` is a dictionary with movie names as keys\n",
    "\n",
    "Value against each key is a numpy array of dimensions `[#participants, #time points, #ROIs]`\n",
    "\n",
    "Note that the testretest movie appears on all 4 runs for a participant, therefore the value has dimensions `[#runs, #participants, #time points, #ROIs]`"
   ]
  },
  {
   "cell_type": "code",
   "execution_count": 3,
   "id": "43363337-d949-448f-b761-99a9897a4f8d",
   "metadata": {},
   "outputs": [
    {
     "name": "stdout",
     "output_type": "stream",
     "text": [
      "testretest (4, 176, 84, 300)\n",
      "twomen (176, 245, 300)\n",
      "bridgeville (176, 222, 300)\n",
      "pockets (176, 189, 300)\n",
      "overcome (176, 65, 300)\n",
      "inception (176, 227, 300)\n",
      "socialnet (176, 260, 300)\n",
      "oceans (176, 250, 300)\n",
      "flower (176, 181, 300)\n",
      "hotel (176, 186, 300)\n",
      "garden (176, 205, 300)\n",
      "dreary (176, 143, 300)\n",
      "homealone (176, 233, 300)\n",
      "brokovich (176, 231, 300)\n",
      "starwars (176, 256, 300)\n"
     ]
    }
   ],
   "source": [
    "rel = {}\n",
    "l = 0\n",
    "for movie_name, ts in TS.items():\n",
    "    rel[movie_name] = l\n",
    "    l += 1\n",
    "    print(movie_name, ts.shape)"
   ]
  },
  {
   "cell_type": "markdown",
   "id": "7abfc207-6280-47e7-92c3-d77e5f908289",
   "metadata": {
    "tags": []
   },
   "source": [
    "### Padding sequences\n",
    "\n",
    "To deal with varying `time points`. For data with `time points < seq_length(self defined)` , I have paded them with 0s. For data with `time points > seq_length(self defined)`, I have split the data into 2 section first, into `[ : seq_length]`, second into `[data_time_point-seq_length : ]`. I have used the `seq_length = 198` (average time_point mentioned in the paper).\n",
    "\n",
    "**Final `features` array is a 2D array, with shape = `(seq_length,300)`.**\n",
    "\n",
    "The following block shows above mentioned discussion"
   ]
  },
  {
   "cell_type": "code",
   "execution_count": 4,
   "id": "607d6a22-aa55-4a97-81d0-1298f5886666",
   "metadata": {},
   "outputs": [
    {
     "name": "stdout",
     "output_type": "stream",
     "text": [
      "176\n",
      "176\n",
      "176\n",
      "176\n",
      "176\n",
      "176\n",
      "176\n",
      "176\n",
      "176\n",
      "176\n",
      "176\n",
      "176\n",
      "176\n",
      "176\n",
      "176\n",
      "176\n",
      "176\n",
      "176\n"
     ]
    }
   ],
   "source": [
    "train_feature = []\n",
    "test_feature  = []\n",
    "train_target  = []\n",
    "test_target   = []\n",
    "seq_length    = 198\n",
    "\n",
    "for movie_name, ts in TS.items():\n",
    "    pep = 0\n",
    "    if movie_name != \"testretest\":\n",
    "        for i in ts:\n",
    "            pep += 1\n",
    "            if (pep <= 100):\n",
    "                if i.shape[0]>seq_length:\n",
    "                    k = i[:seq_length][:]\n",
    "                    train_feature.append(k)\n",
    "                    train_target.append(rel[movie_name])\n",
    "                    \n",
    "                    k = i[i.shape[0]-seq_length:][:]\n",
    "                    train_feature.append(k)\n",
    "                    train_target.append(rel[movie_name])\n",
    "                \n",
    "                elif i.shape[0]<seq_length:\n",
    "                    k = [[0]*300]*seq_length\n",
    "                    k[seq_length-i.shape[0]:] = i\n",
    "                    train_feature.append(k)\n",
    "                    train_target.append(rel[movie_name])\n",
    "                else:\n",
    "                    train_feature.append(i)\n",
    "                    train_target.append(rel[movie_name])\n",
    "\n",
    "            else:\n",
    "                if i.shape[0]>seq_length:\n",
    "                    k = i[:seq_length][:]\n",
    "                    test_feature.append(k)\n",
    "                    test_target.append(rel[movie_name])\n",
    "                   \n",
    "                    k = i[i.shape[0]-seq_length:][:]\n",
    "                    test_feature.append(k)\n",
    "                    test_target.append(rel[movie_name])\n",
    "                \n",
    "                elif i.shape[0]<seq_length:\n",
    "                    k = [[0]*300]*seq_length\n",
    "                    k[seq_length-i.shape[0]:] = i\n",
    "                    test_feature.append(k)\n",
    "                    test_target.append(rel[movie_name])\n",
    "                else:\n",
    "                    test_feature.append(i)\n",
    "                    test_target.append(rel[movie_name])\n",
    "        print(pep)\n",
    "    else:\n",
    "        for jj in ts:\n",
    "            pep = 0\n",
    "            for i in jj:\n",
    "                pep += 1\n",
    "                if (pep <= 100):\n",
    "                    if i.shape[0]>seq_length:\n",
    "                        k = i[:seq_length][:]\n",
    "                        train_feature.append(k)\n",
    "                        train_target.append(rel[movie_name])\n",
    "\n",
    "                        k = i[i.shape[0]-seq_length:][:]\n",
    "                        train_feature.append(k)\n",
    "                        train_target.append(rel[movie_name])\n",
    "\n",
    "                    elif i.shape[0]<seq_length:\n",
    "                        k = [[0]*300]*seq_length\n",
    "                        k[seq_length-i.shape[0]:] = i\n",
    "                        train_feature.append(k)\n",
    "                        train_target.append(rel[movie_name])\n",
    "                    else:\n",
    "                        train_feature.append(i)\n",
    "                        train_target.append(rel[movie_name])\n",
    "\n",
    "                else:\n",
    "                    if i.shape[0]>seq_length:\n",
    "                        k = i[:seq_length][:]\n",
    "                        test_feature.append(k)\n",
    "                        test_target.append(rel[movie_name])\n",
    "\n",
    "                        k = i[i.shape[0]-seq_length:][:]\n",
    "                        test_feature.append(k)\n",
    "                        test_target.append(rel[movie_name])\n",
    "\n",
    "                    elif i.shape[0]<seq_length:\n",
    "                        k = [[0]*300]*seq_length\n",
    "                        k[seq_length-i.shape[0]:] = i\n",
    "                        test_feature.append(k)\n",
    "                        test_target.append(rel[movie_name])\n",
    "                    else:\n",
    "                        test_feature.append(i)\n",
    "                        test_target.append(rel[movie_name])\n",
    "            print(pep)"
   ]
  },
  {
   "cell_type": "markdown",
   "id": "2c2c547f-dd11-4881-8f6d-bf9a04787a6a",
   "metadata": {
    "tags": []
   },
   "source": [
    "### Training, Validation, Test\n",
    "\n",
    "With the data in required shape, The following shows the split into training, validation, and test sets."
   ]
  },
  {
   "cell_type": "code",
   "execution_count": 5,
   "id": "31cc2a9b-713e-4b6a-a469-944aae53384d",
   "metadata": {},
   "outputs": [],
   "source": [
    "from torch.utils.data import TensorDataset, DataLoader\n",
    "\n",
    "train_data = TensorDataset(torch.from_numpy(np.array(train_feature)).float(),torch.from_numpy(np.array(train_target)).float())\n",
    "test_data  = TensorDataset(torch.from_numpy(np.array(test_feature)).float(),torch.from_numpy(np.array(test_target)).float())"
   ]
  },
  {
   "cell_type": "code",
   "execution_count": 6,
   "id": "6deceaea-cf4f-4516-8bea-dd4cbd609de5",
   "metadata": {},
   "outputs": [
    {
     "data": {
      "text/plain": [
       "(2700, 2052)"
      ]
     },
     "execution_count": 6,
     "metadata": {},
     "output_type": "execute_result"
    }
   ],
   "source": [
    "len(train_data),len(test_data)"
   ]
  },
  {
   "cell_type": "code",
   "execution_count": 7,
   "id": "b08f7b66-b862-4421-be4b-d1bf95336c7d",
   "metadata": {},
   "outputs": [],
   "source": [
    "from torch.utils.data.sampler import SubsetRandomSampler\n",
    "\n",
    "batch_size = 32\n",
    "valid_data  = 0.237\n",
    "t_train     = len(train_data)\n",
    "data_no     = list(range(t_train))\n",
    "np.random.shuffle(data_no)\n",
    "split_no    = int(np.ceil(valid_data*t_train))\n",
    "train,valid = data_no[split_no:],data_no[:split_no]\n",
    "\n",
    "train_sampler = SubsetRandomSampler(train)\n",
    "valid_sampler = SubsetRandomSampler(valid)\n",
    "\n",
    "train_loader  = DataLoader(train_data,batch_size=batch_size,sampler=train_sampler)\n",
    "valid_loader  = DataLoader(train_data,sampler=valid_sampler,batch_size=batch_size)\n",
    "test_loader   = DataLoader(test_data, batch_size=batch_size,shuffle = True)"
   ]
  },
  {
   "cell_type": "code",
   "execution_count": 8,
   "id": "712778a9-8de2-43c0-a828-3e0f10e1d900",
   "metadata": {},
   "outputs": [
    {
     "data": {
      "text/plain": [
       "640"
      ]
     },
     "execution_count": 8,
     "metadata": {},
     "output_type": "execute_result"
    }
   ],
   "source": [
    "len(valid)"
   ]
  },
  {
   "cell_type": "code",
   "execution_count": 9,
   "id": "b8b16bb6-a738-453b-b643-614545dff6ef",
   "metadata": {},
   "outputs": [
    {
     "data": {
      "text/plain": [
       "(65, 20, 65)"
      ]
     },
     "execution_count": 9,
     "metadata": {},
     "output_type": "execute_result"
    }
   ],
   "source": [
    "len(train_loader),len(valid_loader),len(test_loader)"
   ]
  },
  {
   "cell_type": "code",
   "execution_count": 10,
   "id": "0164e572-1cde-43d2-9962-8807168c9f1c",
   "metadata": {},
   "outputs": [
    {
     "data": {
      "text/plain": [
       "torch.Size([32, 198, 300])"
      ]
     },
     "execution_count": 10,
     "metadata": {},
     "output_type": "execute_result"
    }
   ],
   "source": [
    "iter(train_loader).next()[0].shape"
   ]
  },
  {
   "cell_type": "code",
   "execution_count": 11,
   "id": "94466fed-c399-40ae-bcac-6531df7eb884",
   "metadata": {},
   "outputs": [],
   "source": [
    "is_cuda = torch.cuda.is_available()\n",
    "\n",
    "if is_cuda:\n",
    "    device = torch.device(\"cuda\")\n",
    "else:\n",
    "    device = torch.device(\"cpu\")"
   ]
  },
  {
   "cell_type": "markdown",
   "id": "6b125b2a-bb8d-4ce6-9f0a-8e069a79df24",
   "metadata": {
    "tags": []
   },
   "source": [
    "## Models"
   ]
  },
  {
   "cell_type": "markdown",
   "id": "068beeed-357c-4d28-a104-eeaac7407776",
   "metadata": {},
   "source": [
    "### Implementing the `Attention` Model\n",
    "\n",
    "The following figures shows the idea behind it (normalization layers are not shown)\n",
    "\n",
    "\n",
    "<img src=\"attntion1.png\" align=\"center\">"
   ]
  },
  {
   "cell_type": "code",
   "execution_count": 12,
   "id": "9395ab00-3686-43e3-9c28-437fe02a2f6c",
   "metadata": {},
   "outputs": [],
   "source": [
    "class Attention(nn.Module):\n",
    "    def __init__(self, hidden_dim, seq_len, bias=False, **kwargs):\n",
    "        super(Attention, self).__init__(**kwargs)\n",
    "        \n",
    "        self.supports_masking = True\n",
    "        self.bias       = bias\n",
    "        self.hidden_dim = hidden_dim\n",
    "        self.seq_len    = seq_len\n",
    "        \n",
    "        weight = torch.zeros(hidden_dim, 1)\n",
    "        nn.init.kaiming_uniform_(weight)\n",
    "        \n",
    "        context = torch.zeros(seq_len,seq_len)\n",
    "        nn.init.kaiming_uniform_(context)\n",
    "        \n",
    "        self.context = nn.Parameter(context)\n",
    "        self.weight  = nn.Parameter(weight)\n",
    "        \n",
    "        if bias:\n",
    "            self.b = nn.Parameter(torch.zeros(seq_len))\n",
    "        \n",
    "    def forward(self, x,mask=None):\n",
    "\n",
    "        eij = torch.mm(x.contiguous().view(-1, self.hidden_dim ), self.weight).view(-1,self.seq_len)\n",
    "        if self.bias:\n",
    "            eij = eij + self.b    \n",
    "        eij = torch.tanh(eij)\n",
    "        \n",
    "        eij = torch.mm(eij,self.context)\n",
    "        eij = torch.nn.functional.normalize(eij,p=2.0,dim=0)\n",
    "        a = torch.exp(eij)\n",
    "        \n",
    "        if mask is not None:\n",
    "            a = a * mask\n",
    "\n",
    "        a = a / (torch.sum(a, 1, keepdim=True) + 1e-10)\n",
    "        weighted_input = x * torch.unsqueeze(a, -1)\n",
    "        weighted_input = torch.nn.functional.normalize(weighted_input,p=2.0,dim=0)\n",
    "        \n",
    "        return torch.sum(weighted_input, 1)"
   ]
  },
  {
   "cell_type": "markdown",
   "id": "f8d18314-cd91-4a77-ac9e-a996e32f9f26",
   "metadata": {
    "tags": []
   },
   "source": [
    "### `GRU Classifier` Model as described in the [paper](https://journals.plos.org/ploscompbiol/article?id=10.1371/journal.pcbi.1008943) with added normalization layers\n",
    "<img src=\"gru.png\">"
   ]
  },
  {
   "cell_type": "code",
   "execution_count": 13,
   "id": "38bdfe5d-4dad-457c-b515-3ae4e337af61",
   "metadata": {},
   "outputs": [],
   "source": [
    "class GRU_RNN(nn.Module):\n",
    "\n",
    "    def __init__(self, input_dim, output_dim,hidden_dim,n_layers,att=True,drop_prob=0.000006):\n",
    "        super(GRU_RNN, self).__init__()\n",
    "\n",
    "        self.output_dim = output_dim\n",
    "        self.n_layers   = n_layers\n",
    "        self.hidden_dim = hidden_dim\n",
    "        self.att        = att\n",
    "        \n",
    "        self.gru       = nn.GRU(input_dim,hidden_dim,num_layers=n_layers,dropout=drop_prob,batch_first=True)\n",
    "        self.linear    = nn.Linear(hidden_dim,output_dim)\n",
    "        if att:\n",
    "            self.attention = Attention(hidden_dim, 198)\n",
    "        \n",
    "        self.dropout   = nn.Dropout(0.3)\n",
    "        self.func      = nn.Softmax(dim = -1)\n",
    "\n",
    "    def forward(self, x, hidden,encoder_x=0):\n",
    "        x,hidden = self.gru(x,hidden)\n",
    "\n",
    "        if self.att:\n",
    "            x = self.attention(x)\n",
    "        else:\n",
    "            x = x[:, -1, :]\n",
    "        \n",
    "        x = torch.nn.functional.normalize(x,dim=0)\n",
    "        \n",
    "        x = self.dropout(x)\n",
    "        x = self.linear(x)\n",
    "        sig_out = self.func(x)\n",
    "        \n",
    "        return sig_out, hidden\n",
    "    \n",
    "    def init_hidden(self, batch_size):\n",
    "        weight = next(self.parameters()).data\n",
    "        hidden = weight.new(self.n_layers, batch_size, self.hidden_dim).zero_().to(device)\n",
    "        return hidden"
   ]
  },
  {
   "cell_type": "markdown",
   "id": "782f2153-8768-40da-ad15-a1f3747840e4",
   "metadata": {
    "tags": []
   },
   "source": [
    "## Training"
   ]
  },
  {
   "cell_type": "code",
   "execution_count": 14,
   "id": "80c60a8b-78e7-4de1-b139-94d05c3ef499",
   "metadata": {},
   "outputs": [],
   "source": [
    "def train(epochs,train_loader,net,valid_loader,optimzer,criterion,att=True):\n",
    "    val_acc = []\n",
    "    tr_acc = []\n",
    "    \n",
    "    clip = 3 # gradient clipping\n",
    "\n",
    "    net.to(device)\n",
    "    net.train()\n",
    "    \n",
    "    valid_loss_min = np.Inf \n",
    "    \n",
    "    valid_losses = []\n",
    "    train_losses = []\n",
    "    \n",
    "    for e in range(epochs):\n",
    "        num_correct = 0\n",
    "        h = net.init_hidden(batch_size)\n",
    "        train_loss = []\n",
    "        valid_loss = []\n",
    "        train_acc  = 0.0\n",
    "        valid_acc  = 0.0 \n",
    "        counter = 0\n",
    "        for inputs, labels in train_loader:\n",
    "            counter += 1\n",
    "            if counter == 65:\n",
    "                continue\n",
    "            inputs, labels = inputs.to(device), labels.type(torch.LongTensor).to(device)\n",
    "            h = h.data\n",
    "            net.zero_grad()\n",
    "\n",
    "            output, h = net(inputs, h) \n",
    "            pred = torch.round(output.squeeze()) \n",
    "            top_value, top_index = torch.max(pred,1)\n",
    "            correct_tensor = top_index.eq(labels.float().view_as(top_index))\n",
    "            correct = np.squeeze(correct_tensor.to('cpu').numpy())\n",
    "            num_correct += np.sum(correct)\n",
    "\n",
    "\n",
    "            loss = criterion(output, labels)\n",
    "            loss.backward()\n",
    "            nn.utils.clip_grad_norm_(net.parameters(), clip)\n",
    "            optimizer.step()\n",
    "\n",
    "            train_loss.append(loss.item())\n",
    "        tr_acc.append(num_correct/(len(train_loader.dataset)))\n",
    "\n",
    "\n",
    "\n",
    "        acc = 0.0\n",
    "        val_h = net.init_hidden(batch_size)\n",
    "        val_losses = []\n",
    "        net.eval()\n",
    "        v_c = 0\n",
    "        for inputs, labels in valid_loader:\n",
    "            v_c += 1\n",
    "            #if (v_c == 14):\n",
    "            #    continue\n",
    "            val_h = val_h.data\n",
    "            inputs, labels = inputs.to(device), labels.type(torch.LongTensor).to(device)\n",
    "\n",
    "            output, val_h = net(inputs, val_h)\n",
    "            \n",
    "            pred = torch.round(output.squeeze()) \n",
    "            top_value, top_index = torch.max(pred,1)\n",
    "            correct_tensor = top_index.eq(labels.float().view_as(top_index))\n",
    "            correct = np.squeeze(correct_tensor.to('cpu').numpy())\n",
    "            num_correct += np.sum(correct)\n",
    "            acc = num_correct/(len(train_loader.dataset))\n",
    "            valid_acc += acc.item()\n",
    "\n",
    "            val_loss = criterion(output.squeeze(),labels)\n",
    "            val_losses.append(val_loss.item())\n",
    "            if val_loss.item() <= valid_loss_min:\n",
    "                print('Validation loss decreased ({:.6f} --> {:.6f}).  Saving model ...'.format(valid_loss_min, val_loss.item()))\n",
    "                if att:\n",
    "                    torch.save(net.state_dict(), 'RNN_GRU_Att.pt')\n",
    "                else:\n",
    "                    torch.save(net.state_dict(), 'RNN_GRU.pt')\n",
    "                valid_loss_min = val_loss.item()\n",
    "\n",
    "        net.train()\n",
    "        valid_losses.append(np.mean(val_losses))\n",
    "        train_losses.append(np.mean(train_loss))\n",
    "        val_acc.append(valid_acc/len(valid_loader))\n",
    "        print('Epoch: {}/{} \\tTraining Loss: {:.6f} \\tValidation Loss: {:.6f}'.format(e+1,epochs,np.mean(train_loss),np.mean(val_losses)))\n",
    "    return train_losses,valid_losses,tr_acc,val_acc"
   ]
  },
  {
   "cell_type": "code",
   "execution_count": 15,
   "id": "f7f4a78c-9568-4b03-905b-e41dd00c79e2",
   "metadata": {},
   "outputs": [],
   "source": [
    "epochs     = 55\n",
    "input_dim  = 300\n",
    "hidden_dim = 32\n",
    "output_dim = 15\n",
    "n_layers   = 2\n",
    "lr         = 0.006"
   ]
  },
  {
   "cell_type": "markdown",
   "id": "cb106ebb-8426-416c-ada2-830c039d2ed3",
   "metadata": {},
   "source": [
    "### Training with Attention Layer"
   ]
  },
  {
   "cell_type": "code",
   "execution_count": 16,
   "id": "57404114-18e9-4aa3-bd8d-083439bb501f",
   "metadata": {},
   "outputs": [
    {
     "name": "stdout",
     "output_type": "stream",
     "text": [
      "GRU_RNN(\n",
      "  (gru): GRU(300, 32, num_layers=2, batch_first=True, dropout=6e-06)\n",
      "  (linear): Linear(in_features=32, out_features=15, bias=True)\n",
      "  (attention): Attention()\n",
      "  (dropout): Dropout(p=0.3, inplace=False)\n",
      "  (func): Softmax(dim=-1)\n",
      ")\n"
     ]
    }
   ],
   "source": [
    "model     = GRU_RNN(input_dim, output_dim, hidden_dim, n_layers)\n",
    "optimizer = torch.optim.Adam(model.parameters(), lr=lr)\n",
    "criterion = nn.CrossEntropyLoss()\n",
    "print(model)"
   ]
  },
  {
   "cell_type": "code",
   "execution_count": 17,
   "id": "3fba8d73-163a-442f-80ca-03fa23f00d11",
   "metadata": {},
   "outputs": [
    {
     "name": "stdout",
     "output_type": "stream",
     "text": [
      "Validation loss decreased (inf --> 2.485496).  Saving model ...\n",
      "Validation loss decreased (2.485496 --> 2.477715).  Saving model ...\n",
      "Validation loss decreased (2.477715 --> 2.439403).  Saving model ...\n",
      "Epoch: 1/55 \tTraining Loss: 2.612245 \tValidation Loss: 2.523331\n",
      "Validation loss decreased (2.439403 --> 2.327251).  Saving model ...\n",
      "Validation loss decreased (2.327251 --> 2.284764).  Saving model ...\n",
      "Epoch: 2/55 \tTraining Loss: 2.468560 \tValidation Loss: 2.399697\n",
      "Validation loss decreased (2.284764 --> 2.272093).  Saving model ...\n",
      "Validation loss decreased (2.272093 --> 2.267678).  Saving model ...\n",
      "Validation loss decreased (2.267678 --> 2.230921).  Saving model ...\n",
      "Validation loss decreased (2.230921 --> 2.163292).  Saving model ...\n",
      "Epoch: 3/55 \tTraining Loss: 2.331809 \tValidation Loss: 2.272173\n",
      "Validation loss decreased (2.163292 --> 2.086107).  Saving model ...\n",
      "Validation loss decreased (2.086107 --> 2.079929).  Saving model ...\n",
      "Epoch: 4/55 \tTraining Loss: 2.218675 \tValidation Loss: 2.195756\n",
      "Validation loss decreased (2.079929 --> 1.993658).  Saving model ...\n",
      "Epoch: 5/55 \tTraining Loss: 2.140458 \tValidation Loss: 2.125530\n",
      "Validation loss decreased (1.993658 --> 1.966671).  Saving model ...\n",
      "Epoch: 6/55 \tTraining Loss: 2.092914 \tValidation Loss: 2.094115\n",
      "Validation loss decreased (1.966671 --> 1.953048).  Saving model ...\n",
      "Validation loss decreased (1.953048 --> 1.951341).  Saving model ...\n",
      "Epoch: 7/55 \tTraining Loss: 2.051510 \tValidation Loss: 2.052114\n",
      "Validation loss decreased (1.951341 --> 1.904587).  Saving model ...\n",
      "Epoch: 8/55 \tTraining Loss: 2.023219 \tValidation Loss: 2.041396\n",
      "Epoch: 9/55 \tTraining Loss: 2.010982 \tValidation Loss: 2.031770\n",
      "Epoch: 10/55 \tTraining Loss: 2.003790 \tValidation Loss: 2.028706\n",
      "Validation loss decreased (1.904587 --> 1.887001).  Saving model ...\n",
      "Epoch: 11/55 \tTraining Loss: 1.998887 \tValidation Loss: 2.021684\n",
      "Validation loss decreased (1.887001 --> 1.884748).  Saving model ...\n",
      "Epoch: 12/55 \tTraining Loss: 1.984847 \tValidation Loss: 1.995921\n",
      "Epoch: 13/55 \tTraining Loss: 1.968423 \tValidation Loss: 1.985573\n",
      "Epoch: 14/55 \tTraining Loss: 1.952034 \tValidation Loss: 1.955287\n",
      "Epoch: 15/55 \tTraining Loss: 1.936467 \tValidation Loss: 1.937032\n",
      "Validation loss decreased (1.884748 --> 1.850358).  Saving model ...\n",
      "Epoch: 16/55 \tTraining Loss: 1.917774 \tValidation Loss: 1.940964\n",
      "Validation loss decreased (1.850358 --> 1.832716).  Saving model ...\n",
      "Epoch: 17/55 \tTraining Loss: 1.909161 \tValidation Loss: 1.918453\n",
      "Epoch: 18/55 \tTraining Loss: 1.893812 \tValidation Loss: 1.901619\n",
      "Epoch: 19/55 \tTraining Loss: 1.880242 \tValidation Loss: 1.893778\n",
      "Epoch: 20/55 \tTraining Loss: 1.876654 \tValidation Loss: 1.897589\n",
      "Epoch: 21/55 \tTraining Loss: 1.869623 \tValidation Loss: 1.894692\n",
      "Validation loss decreased (1.832716 --> 1.829357).  Saving model ...\n",
      "Validation loss decreased (1.829357 --> 1.823728).  Saving model ...\n",
      "Epoch: 22/55 \tTraining Loss: 1.864775 \tValidation Loss: 1.874898\n",
      "Epoch: 23/55 \tTraining Loss: 1.847248 \tValidation Loss: 1.865178\n",
      "Epoch: 24/55 \tTraining Loss: 1.844727 \tValidation Loss: 1.862721\n",
      "Epoch: 25/55 \tTraining Loss: 1.839710 \tValidation Loss: 1.856930\n",
      "Epoch: 26/55 \tTraining Loss: 1.837486 \tValidation Loss: 1.858091\n",
      "Epoch: 27/55 \tTraining Loss: 1.834453 \tValidation Loss: 1.858605\n",
      "Epoch: 28/55 \tTraining Loss: 1.833428 \tValidation Loss: 1.848490\n",
      "Validation loss decreased (1.823728 --> 1.821769).  Saving model ...\n",
      "Epoch: 29/55 \tTraining Loss: 1.830569 \tValidation Loss: 1.850700\n",
      "Epoch: 30/55 \tTraining Loss: 1.830657 \tValidation Loss: 1.851587\n",
      "Validation loss decreased (1.821769 --> 1.819794).  Saving model ...\n",
      "Epoch: 31/55 \tTraining Loss: 1.828089 \tValidation Loss: 1.843339\n",
      "Validation loss decreased (1.819794 --> 1.819138).  Saving model ...\n",
      "Validation loss decreased (1.819138 --> 1.818392).  Saving model ...\n",
      "Epoch: 32/55 \tTraining Loss: 1.824223 \tValidation Loss: 1.844692\n",
      "Epoch: 33/55 \tTraining Loss: 1.824585 \tValidation Loss: 1.843972\n",
      "Epoch: 34/55 \tTraining Loss: 1.822953 \tValidation Loss: 1.844960\n",
      "Epoch: 35/55 \tTraining Loss: 1.821248 \tValidation Loss: 1.845330\n",
      "Epoch: 36/55 \tTraining Loss: 1.820846 \tValidation Loss: 1.843873\n",
      "Epoch: 37/55 \tTraining Loss: 1.820475 \tValidation Loss: 1.840667\n",
      "Epoch: 38/55 \tTraining Loss: 1.820405 \tValidation Loss: 1.837353\n",
      "Epoch: 39/55 \tTraining Loss: 1.820042 \tValidation Loss: 1.840457\n",
      "Validation loss decreased (1.818392 --> 1.817987).  Saving model ...\n",
      "Validation loss decreased (1.817987 --> 1.817604).  Saving model ...\n",
      "Epoch: 40/55 \tTraining Loss: 1.819602 \tValidation Loss: 1.835601\n",
      "Epoch: 41/55 \tTraining Loss: 1.820081 \tValidation Loss: 1.838628\n",
      "Epoch: 42/55 \tTraining Loss: 1.819139 \tValidation Loss: 1.836698\n",
      "Epoch: 43/55 \tTraining Loss: 1.818909 \tValidation Loss: 1.838527\n",
      "Epoch: 44/55 \tTraining Loss: 1.819309 \tValidation Loss: 1.835069\n",
      "Validation loss decreased (1.817604 --> 1.816987).  Saving model ...\n",
      "Epoch: 45/55 \tTraining Loss: 1.819125 \tValidation Loss: 1.836788\n",
      "Epoch: 46/55 \tTraining Loss: 1.818619 \tValidation Loss: 1.835528\n",
      "Epoch: 47/55 \tTraining Loss: 1.818504 \tValidation Loss: 1.834692\n",
      "Epoch: 48/55 \tTraining Loss: 1.818160 \tValidation Loss: 1.837716\n",
      "Epoch: 49/55 \tTraining Loss: 1.818451 \tValidation Loss: 1.839807\n",
      "Epoch: 50/55 \tTraining Loss: 1.818208 \tValidation Loss: 1.836913\n",
      "Epoch: 51/55 \tTraining Loss: 1.817969 \tValidation Loss: 1.837970\n",
      "Epoch: 52/55 \tTraining Loss: 1.817961 \tValidation Loss: 1.836090\n",
      "Epoch: 53/55 \tTraining Loss: 1.818005 \tValidation Loss: 1.834357\n",
      "Epoch: 54/55 \tTraining Loss: 1.818315 \tValidation Loss: 1.834675\n",
      "Epoch: 55/55 \tTraining Loss: 1.818016 \tValidation Loss: 1.837202\n"
     ]
    }
   ],
   "source": [
    "train_losses,valid_losses,tr_acc,val_acc = train(epochs,train_loader,model,valid_loader,optimizer,criterion)"
   ]
  },
  {
   "cell_type": "code",
   "execution_count": 18,
   "id": "9b62a322-3c2a-453a-83c7-707d8f9f130f",
   "metadata": {},
   "outputs": [
    {
     "data": {
      "image/png": "[encoded data removed]",
      "text/plain": [
       "<Figure size 1440x360 with 1 Axes>"
      ]
     },
     "metadata": {
      "needs_background": "light"
     },
     "output_type": "display_data"
    }
   ],
   "source": [
    "import matplotlib.pyplot as plt\n",
    "f = plt.figure()\n",
    "f.set_figwidth(20)\n",
    "f.set_figheight(5)\n",
    "x  = [i for i in range(1,epochs+1)]\n",
    "xi = [i for i in range(0,epochs+5,5)]\n",
    "xi[0] = 1\n",
    "plt.plot(x,train_losses)\n",
    "plt.plot(x,valid_losses)\n",
    "plt.xticks(xi)\n",
    "plt.xlabel(\"Epochs\", fontweight='bold',color = 'Black', fontsize='15', horizontalalignment='center')\n",
    "plt.ylabel(\"Loss\",fontweight='bold',color = 'Black', fontsize='15', horizontalalignment='center')\n",
    "plt.title(\"Losses (with Attention)\",fontweight='bold',color = 'Black', fontsize='15', horizontalalignment='center')\n",
    "plt.legend([\"Training Loss\",\"Valid Loss\"]);"
   ]
  },
  {
   "cell_type": "code",
   "execution_count": 19,
   "id": "7480145d-c389-4263-aa10-ac224bf3787f",
   "metadata": {},
   "outputs": [
    {
     "data": {
      "image/png": "[encoded data removed]",
      "text/plain": [
       "<Figure size 1440x360 with 1 Axes>"
      ]
     },
     "metadata": {
      "needs_background": "light"
     },
     "output_type": "display_data"
    }
   ],
   "source": [
    "f = plt.figure()\n",
    "f.set_figwidth(20)\n",
    "f.set_figheight(5)\n",
    "plt.plot(x,tr_acc)\n",
    "plt.plot(x,val_acc)\n",
    "plt.xticks(xi)\n",
    "plt.xlabel(\"Epochs\", fontweight='bold',color = 'Black', fontsize='15', horizontalalignment='center')\n",
    "plt.ylabel(\"Accuracies\",fontweight='bold',color = 'Black', fontsize='15', horizontalalignment='center')\n",
    "plt.title(\"Accuracies (with Attention)\",fontweight='bold',color = 'Black', fontsize='15', horizontalalignment='center')\n",
    "plt.legend([\"Training Accuracy\",\"Valid Accuracy\"]);"
   ]
  },
  {
   "cell_type": "markdown",
   "id": "d451cfb4-c60d-4dad-bfd8-75f2d64f28c4",
   "metadata": {},
   "source": [
    "### Training without Attention Layer"
   ]
  },
  {
   "cell_type": "code",
   "execution_count": 20,
   "id": "c1f49059-0f50-4109-9915-be4c571c76ee",
   "metadata": {},
   "outputs": [
    {
     "name": "stdout",
     "output_type": "stream",
     "text": [
      "GRU_RNN(\n",
      "  (gru): GRU(300, 32, num_layers=2, batch_first=True, dropout=6e-06)\n",
      "  (linear): Linear(in_features=32, out_features=15, bias=True)\n",
      "  (dropout): Dropout(p=0.3, inplace=False)\n",
      "  (func): Softmax(dim=-1)\n",
      ")\n"
     ]
    }
   ],
   "source": [
    "model     = GRU_RNN(input_dim, output_dim, hidden_dim, n_layers,att=False)\n",
    "optimizer = torch.optim.Adam(model.parameters(), lr=lr)\n",
    "criterion = nn.CrossEntropyLoss()\n",
    "print(model)"
   ]
  },
  {
   "cell_type": "code",
   "execution_count": 21,
   "id": "a46164b3-eeba-414b-a5d9-49b7f6561421",
   "metadata": {},
   "outputs": [
    {
     "name": "stdout",
     "output_type": "stream",
     "text": [
      "Validation loss decreased (inf --> 2.576638).  Saving model ...\n",
      "Validation loss decreased (2.576638 --> 2.545745).  Saving model ...\n",
      "Validation loss decreased (2.545745 --> 2.494016).  Saving model ...\n",
      "Validation loss decreased (2.494016 --> 2.484973).  Saving model ...\n",
      "Epoch: 1/55 \tTraining Loss: 2.645768 \tValidation Loss: 2.563459\n",
      "Validation loss decreased (2.484973 --> 2.438948).  Saving model ...\n",
      "Validation loss decreased (2.438948 --> 2.409795).  Saving model ...\n",
      "Validation loss decreased (2.409795 --> 2.341540).  Saving model ...\n",
      "Epoch: 2/55 \tTraining Loss: 2.502964 \tValidation Loss: 2.424972\n",
      "Validation loss decreased (2.341540 --> 2.341492).  Saving model ...\n",
      "Validation loss decreased (2.341492 --> 2.255080).  Saving model ...\n",
      "Epoch: 3/55 \tTraining Loss: 2.379825 \tValidation Loss: 2.369869\n",
      "Validation loss decreased (2.255080 --> 2.173104).  Saving model ...\n",
      "Validation loss decreased (2.173104 --> 2.162851).  Saving model ...\n",
      "Epoch: 4/55 \tTraining Loss: 2.312107 \tValidation Loss: 2.293672\n",
      "Validation loss decreased (2.162851 --> 2.133821).  Saving model ...\n",
      "Epoch: 5/55 \tTraining Loss: 2.242306 \tValidation Loss: 2.276322\n",
      "Epoch: 6/55 \tTraining Loss: 2.205225 \tValidation Loss: 2.252136\n",
      "Validation loss decreased (2.133821 --> 2.080166).  Saving model ...\n",
      "Validation loss decreased (2.080166 --> 2.067833).  Saving model ...\n",
      "Epoch: 7/55 \tTraining Loss: 2.167401 \tValidation Loss: 2.205309\n",
      "Validation loss decreased (2.067833 --> 2.051705).  Saving model ...\n",
      "Epoch: 8/55 \tTraining Loss: 2.132648 \tValidation Loss: 2.205938\n",
      "Epoch: 9/55 \tTraining Loss: 2.125032 \tValidation Loss: 2.194674\n",
      "Validation loss decreased (2.051705 --> 2.010390).  Saving model ...\n",
      "Epoch: 10/55 \tTraining Loss: 2.106343 \tValidation Loss: 2.176205\n",
      "Validation loss decreased (2.010390 --> 1.984911).  Saving model ...\n",
      "Epoch: 11/55 \tTraining Loss: 2.099931 \tValidation Loss: 2.173251\n",
      "Epoch: 12/55 \tTraining Loss: 2.091472 \tValidation Loss: 2.171018\n",
      "Epoch: 13/55 \tTraining Loss: 2.084669 \tValidation Loss: 2.171294\n",
      "Epoch: 14/55 \tTraining Loss: 2.072370 \tValidation Loss: 2.160870\n",
      "Epoch: 15/55 \tTraining Loss: 2.057693 \tValidation Loss: 2.127333\n",
      "Epoch: 16/55 \tTraining Loss: 2.050378 \tValidation Loss: 2.130615\n",
      "Epoch: 17/55 \tTraining Loss: 2.034720 \tValidation Loss: 2.135458\n",
      "Epoch: 18/55 \tTraining Loss: 2.027577 \tValidation Loss: 2.125732\n",
      "Validation loss decreased (1.984911 --> 1.955551).  Saving model ...\n",
      "Epoch: 19/55 \tTraining Loss: 2.030178 \tValidation Loss: 2.125750\n",
      "Validation loss decreased (1.955551 --> 1.923642).  Saving model ...\n",
      "Epoch: 20/55 \tTraining Loss: 2.025667 \tValidation Loss: 2.123397\n",
      "Epoch: 21/55 \tTraining Loss: 2.021931 \tValidation Loss: 2.117369\n",
      "Epoch: 22/55 \tTraining Loss: 2.011559 \tValidation Loss: 2.112292\n",
      "Epoch: 23/55 \tTraining Loss: 2.019847 \tValidation Loss: 2.115719\n",
      "Epoch: 24/55 \tTraining Loss: 2.013035 \tValidation Loss: 2.122261\n",
      "Epoch: 25/55 \tTraining Loss: 1.996998 \tValidation Loss: 2.110281\n",
      "Epoch: 26/55 \tTraining Loss: 1.996923 \tValidation Loss: 2.114626\n",
      "Epoch: 27/55 \tTraining Loss: 1.980610 \tValidation Loss: 2.102455\n",
      "Epoch: 28/55 \tTraining Loss: 1.962848 \tValidation Loss: 2.081381\n",
      "Validation loss decreased (1.923642 --> 1.920197).  Saving model ...\n",
      "Epoch: 29/55 \tTraining Loss: 1.970738 \tValidation Loss: 2.082738\n",
      "Validation loss decreased (1.920197 --> 1.906037).  Saving model ...\n",
      "Epoch: 30/55 \tTraining Loss: 1.968743 \tValidation Loss: 2.080311\n",
      "Epoch: 31/55 \tTraining Loss: 1.976135 \tValidation Loss: 2.092039\n",
      "Epoch: 32/55 \tTraining Loss: 1.970298 \tValidation Loss: 2.086581\n",
      "Epoch: 33/55 \tTraining Loss: 1.956035 \tValidation Loss: 2.072550\n",
      "Epoch: 34/55 \tTraining Loss: 1.970467 \tValidation Loss: 2.092743\n",
      "Epoch: 35/55 \tTraining Loss: 1.972564 \tValidation Loss: 2.078724\n",
      "Epoch: 36/55 \tTraining Loss: 1.963060 \tValidation Loss: 2.083292\n",
      "Validation loss decreased (1.906037 --> 1.905163).  Saving model ...\n",
      "Epoch: 37/55 \tTraining Loss: 1.968176 \tValidation Loss: 2.064796\n",
      "Epoch: 38/55 \tTraining Loss: 1.986619 \tValidation Loss: 2.096199\n",
      "Epoch: 39/55 \tTraining Loss: 1.972762 \tValidation Loss: 2.076092\n",
      "Epoch: 40/55 \tTraining Loss: 1.974658 \tValidation Loss: 2.077395\n",
      "Epoch: 41/55 \tTraining Loss: 1.968011 \tValidation Loss: 2.067130\n",
      "Validation loss decreased (1.905163 --> 1.864933).  Saving model ...\n",
      "Epoch: 42/55 \tTraining Loss: 1.972313 \tValidation Loss: 2.074442\n",
      "Epoch: 43/55 \tTraining Loss: 1.949894 \tValidation Loss: 2.070077\n",
      "Epoch: 44/55 \tTraining Loss: 1.945058 \tValidation Loss: 2.074374\n",
      "Epoch: 45/55 \tTraining Loss: 1.953858 \tValidation Loss: 2.079852\n",
      "Epoch: 46/55 \tTraining Loss: 1.960352 \tValidation Loss: 2.056224\n",
      "Epoch: 47/55 \tTraining Loss: 1.944346 \tValidation Loss: 2.065177\n",
      "Epoch: 48/55 \tTraining Loss: 1.937642 \tValidation Loss: 2.042644\n",
      "Epoch: 49/55 \tTraining Loss: 1.940997 \tValidation Loss: 2.072174\n",
      "Epoch: 50/55 \tTraining Loss: 1.944112 \tValidation Loss: 2.060096\n",
      "Epoch: 51/55 \tTraining Loss: 1.942280 \tValidation Loss: 2.085600\n",
      "Epoch: 52/55 \tTraining Loss: 1.944951 \tValidation Loss: 2.064953\n",
      "Epoch: 53/55 \tTraining Loss: 1.943842 \tValidation Loss: 2.061859\n",
      "Epoch: 54/55 \tTraining Loss: 1.947178 \tValidation Loss: 2.050428\n",
      "Epoch: 55/55 \tTraining Loss: 1.940243 \tValidation Loss: 2.053850\n"
     ]
    }
   ],
   "source": [
    "train_losses_1,valid_losses_1,tr_acc_1,val_acc_1= train(epochs,train_loader,model,valid_loader,optimizer,criterion,att=False)"
   ]
  },
  {
   "cell_type": "code",
   "execution_count": 22,
   "id": "b86bfb25-6861-4b0a-a662-b306660764f8",
   "metadata": {},
   "outputs": [
    {
     "data": {
      "image/png": "[encoded data removed]",
      "text/plain": [
       "<Figure size 1440x360 with 1 Axes>"
      ]
     },
     "metadata": {
      "needs_background": "light"
     },
     "output_type": "display_data"
    }
   ],
   "source": [
    "f = plt.figure()\n",
    "f.set_figwidth(20)\n",
    "f.set_figheight(5)\n",
    "plt.plot(x,train_losses_1)\n",
    "plt.plot(x,valid_losses_1)\n",
    "plt.xticks(xi)\n",
    "plt.xlabel(\"Epochs\", fontweight='bold',color = 'Black', fontsize='15', horizontalalignment='center')\n",
    "plt.ylabel(\"Loss\",fontweight='bold',color = 'Black', fontsize='15', horizontalalignment='center')\n",
    "plt.title(\"Losses (without Attention)\",fontweight='bold',color = 'Black', fontsize='15', horizontalalignment='center')\n",
    "plt.legend([\"Training Loss\",\"Valid Loss\"]);"
   ]
  },
  {
   "cell_type": "code",
   "execution_count": 23,
   "id": "710a580a-eb7e-4f82-8cb1-7b443e209c74",
   "metadata": {},
   "outputs": [
    {
     "data": {
      "image/png": "[encoded data removed]",
      "text/plain": [
       "<Figure size 1440x360 with 1 Axes>"
      ]
     },
     "metadata": {
      "needs_background": "light"
     },
     "output_type": "display_data"
    }
   ],
   "source": [
    "f = plt.figure()\n",
    "f.set_figwidth(20)\n",
    "f.set_figheight(5)\n",
    "plt.plot([i for i in range(1,epochs+1)],tr_acc_1)\n",
    "plt.plot([i for i in range(1,epochs+1)],val_acc_1)\n",
    "plt.xticks(xi)\n",
    "plt.xlabel(\"Epochs\", fontweight='bold',color = 'Black', fontsize='15', horizontalalignment='center')\n",
    "plt.ylabel(\"Accuracies\",fontweight='bold',color = 'Black', fontsize='15', horizontalalignment='center')\n",
    "plt.title(\"Accuracies (without Attention)\",fontweight='bold',color = 'Black', fontsize='15', horizontalalignment='center')\n",
    "plt.legend([\"Training Accuracy\",\"Valid Accuracy\"]);"
   ]
  },
  {
   "cell_type": "markdown",
   "id": "ca13d955-6efa-41c1-af86-a269d3c19e65",
   "metadata": {
    "tags": []
   },
   "source": [
    "## Testing"
   ]
  },
  {
   "cell_type": "code",
   "execution_count": 24,
   "id": "274e26e7-26be-44fb-864a-29508d82fba9",
   "metadata": {},
   "outputs": [],
   "source": [
    "def test(test_loader,net):\n",
    "    v_c = 0\n",
    "    net.eval()\n",
    "    net.to(device)\n",
    "    num_correct = 0\n",
    "    valid_acc = 0\n",
    "    h = net.init_hidden(batch_size)\n",
    "    for inputs, labels in test_loader:\n",
    "        v_c += 1\n",
    "        if (v_c == 65):\n",
    "            continue\n",
    "        h = h.data\n",
    "        inputs, labels = inputs.to(device), labels.type(torch.LongTensor).to(device)\n",
    "\n",
    "        output, h = net(inputs, h)\n",
    "\n",
    "        pred = torch.round(output.squeeze()) \n",
    "        top_value, top_index = torch.max(pred,1)\n",
    "        correct_tensor = top_index.eq(labels.float().view_as(top_index))\n",
    "        correct = np.squeeze(correct_tensor.to('cpu').numpy())\n",
    "        num_correct += np.sum(correct)\n",
    "    \n",
    "    test_acc = num_correct/len(test_loader.dataset)\n",
    "    print(\"Test accuracy: {:.3f}\".format(test_acc))"
   ]
  },
  {
   "cell_type": "markdown",
   "id": "91f9273c-b2bc-4934-9e2b-0e0d9a74e0d7",
   "metadata": {},
   "source": [
    "### Accuracy with Attention Layer"
   ]
  },
  {
   "cell_type": "code",
   "execution_count": 26,
   "id": "e38fa47f-8036-4646-ad00-2e022d9df2a4",
   "metadata": {},
   "outputs": [
    {
     "data": {
      "text/plain": [
       "<All keys matched successfully>"
      ]
     },
     "execution_count": 26,
     "metadata": {},
     "output_type": "execute_result"
    }
   ],
   "source": [
    "model = GRU_RNN(input_dim, output_dim, hidden_dim, n_layers)\n",
    "model.load_state_dict(torch.load('RNN_GRU_Att.pt'))"
   ]
  },
  {
   "cell_type": "code",
   "execution_count": 27,
   "id": "cbd08da8-e8cf-4c73-8774-5493094a744b",
   "metadata": {},
   "outputs": [
    {
     "name": "stdout",
     "output_type": "stream",
     "text": [
      "Test accuracy: 0.969\n"
     ]
    }
   ],
   "source": [
    "test(test_loader,model)"
   ]
  },
  {
   "cell_type": "markdown",
   "id": "1d52f2a7-eb3e-4b5b-8450-2b105fc9ef0c",
   "metadata": {},
   "source": [
    "### Accuracy without Attention Layer"
   ]
  },
  {
   "cell_type": "code",
   "execution_count": 28,
   "id": "5e7ae841-f3ea-4c57-839c-a93409fea501",
   "metadata": {},
   "outputs": [
    {
     "data": {
      "text/plain": [
       "<All keys matched successfully>"
      ]
     },
     "execution_count": 28,
     "metadata": {},
     "output_type": "execute_result"
    }
   ],
   "source": [
    "model = GRU_RNN(input_dim, output_dim, hidden_dim, n_layers,att=False)\n",
    "model.load_state_dict(torch.load('RNN_GRU.pt'))"
   ]
  },
  {
   "cell_type": "code",
   "execution_count": 29,
   "id": "a8dd6562-1f7f-4278-9400-7c2de56a17e4",
   "metadata": {},
   "outputs": [
    {
     "name": "stdout",
     "output_type": "stream",
     "text": [
      "Test accuracy: 0.782\n"
     ]
    }
   ],
   "source": [
    "test(test_loader,model)"
   ]
  },
  {
   "cell_type": "markdown",
   "id": "ca5d8b39-306a-4c53-97ad-dade7a5f6080",
   "metadata": {
    "tags": []
   },
   "source": [
    "## Conclusion\n",
    "\n",
    "Adding an Attention Layer has increased the model accuracy as expected.\n",
    "The model furthur can be extended/improved by using other methods such as `transformers`"
   ]
  }
 ],
 "metadata": {
  "kernelspec": {
   "display_name": "Python 3 (ipykernel)",
   "language": "python",
   "name": "python3"
  },
  "language_info": {
   "codemirror_mode": {
    "name": "ipython",
    "version": 3
   },
   "file_extension": ".py",
   "mimetype": "text/x-python",
   "name": "python",
   "nbconvert_exporter": "python",
   "pygments_lexer": "ipython3",
   "version": "3.9.12"
  }
 },
 "nbformat": 4,
 "nbformat_minor": 5
}
