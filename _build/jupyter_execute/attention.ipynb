{
 "cells": [
  {
   "cell_type": "markdown",
   "id": "e00ed732-c657-4db0-85b7-167907b382b1",
   "metadata": {
    "tags": []
   },
   "source": [
    "# GRU + Attention (with normalization)"
   ]
  },
  {
   "cell_type": "markdown",
   "id": "a5842913-716a-49ff-8f46-2d5e5a175c6d",
   "metadata": {
    "tags": []
   },
   "source": [
    "## Overview"
   ]
  },
  {
   "cell_type": "markdown",
   "id": "ef11f2fb-5269-4c19-8c01-9006215208e9",
   "metadata": {},
   "source": [
    "**This notebook extends the GRU Classifier model (movie watching) described in the [paper](https://journals.plos.org/ploscompbiol/article?id=10.1371/journal.pcbi.1008943)  by adding an `Attention Layer` and normalization**\n",
    "\n",
    "Attention was first presented by Dzmitry Bahdanau, et al. in their paper [Neural Machine Translation by Jointly Learning to Align and Translate](https://arxiv.org/abs/1409.0473).\n"
   ]
  },
  {
   "cell_type": "markdown",
   "id": "2cd10e05-5e39-4c34-897a-67151f7179e4",
   "metadata": {
    "tags": []
   },
   "source": [
    "---\n",
    "## Data"
   ]
  },
  {
   "cell_type": "markdown",
   "id": "3d315492-15a6-46b8-8527-1e65f9712314",
   "metadata": {},
   "source": [
    "**Data provided is already preprocessed but needs to be converted in model usabale format**"
   ]
  },
  {
   "cell_type": "code",
   "execution_count": 1,
   "id": "3f6f36f2-a0bf-4460-bc88-4906ed055872",
   "metadata": {},
   "outputs": [],
   "source": [
    "import torch\n",
    "import pickle\n",
    "import numpy as np\n",
    "import torch.nn as nn"
   ]
  },
  {
   "cell_type": "code",
   "execution_count": 2,
   "id": "e1556b2d-782b-41c5-ade7-86913ca18b6d",
   "metadata": {},
   "outputs": [
    {
     "name": "stdout",
     "output_type": "stream",
     "text": [
      "dict_keys(['testretest', 'twomen', 'bridgeville', 'pockets', 'overcome', 'inception', 'socialnet', 'oceans', 'flower', 'hotel', 'garden', 'dreary', 'homealone', 'brokovich', 'starwars'])\n"
     ]
    }
   ],
   "source": [
    "with open('HCP_movie_watching.pkl','rb') as f:\n",
    "    TS = pickle.load(f)\n",
    "print(TS.keys())"
   ]
  },
  {
   "cell_type": "markdown",
   "id": "187648f5-bbf9-4131-bfd9-b9522b6ea286",
   "metadata": {
    "tags": []
   },
   "source": [
    "### Dataset organization\n",
    "`TS` is a dictionary with movie names as keys\n",
    "\n",
    "Value against each key is a numpy array of dimensions `[#participants, #time points, #ROIs]`\n",
    "\n",
    "Note that the testretest movie appears on all 4 runs for a participant, therefore the value has dimensions `[#runs, #participants, #time points, #ROIs]`"
   ]
  },
  {
   "cell_type": "code",
   "execution_count": 3,
   "id": "43363337-d949-448f-b761-99a9897a4f8d",
   "metadata": {},
   "outputs": [
    {
     "name": "stdout",
     "output_type": "stream",
     "text": [
      "testretest (4, 176, 84, 300)\n",
      "twomen (176, 245, 300)\n",
      "bridgeville (176, 222, 300)\n",
      "pockets (176, 189, 300)\n",
      "overcome (176, 65, 300)\n",
      "inception (176, 227, 300)\n",
      "socialnet (176, 260, 300)\n",
      "oceans (176, 250, 300)\n",
      "flower (176, 181, 300)\n",
      "hotel (176, 186, 300)\n",
      "garden (176, 205, 300)\n",
      "dreary (176, 143, 300)\n",
      "homealone (176, 233, 300)\n",
      "brokovich (176, 231, 300)\n",
      "starwars (176, 256, 300)\n"
     ]
    }
   ],
   "source": [
    "rel = {}\n",
    "l = 0\n",
    "for movie_name, ts in TS.items():\n",
    "    rel[movie_name] = l\n",
    "    l += 1\n",
    "    print(movie_name, ts.shape)"
   ]
  },
  {
   "cell_type": "markdown",
   "id": "7abfc207-6280-47e7-92c3-d77e5f908289",
   "metadata": {
    "tags": []
   },
   "source": [
    "### Padding sequences\n",
    "\n",
    "To deal with varying `time points`. For data with `time points < seq_length(self defined)` , I have paded them with 0s. For data with `time points > seq_length(self defined)`, I have split the data into 2 section first, into `[ : seq_length]`, second into `[data_time_point-seq_length : ]`. I have used the `seq_length = 198` (average time_point mentioned in the paper).\n",
    "\n",
    "**Final `features` array is a 2D array, with shape = `(seq_length,300)`.**\n",
    "\n",
    "The following block shows above mentioned discussion"
   ]
  },
  {
   "cell_type": "code",
   "execution_count": 4,
   "id": "607d6a22-aa55-4a97-81d0-1298f5886666",
   "metadata": {},
   "outputs": [
    {
     "name": "stdout",
     "output_type": "stream",
     "text": [
      "176\n",
      "176\n",
      "176\n",
      "176\n",
      "176\n",
      "176\n",
      "176\n",
      "176\n",
      "176\n",
      "176\n",
      "176\n",
      "176\n",
      "176\n",
      "176\n",
      "176\n",
      "176\n",
      "176\n",
      "176\n"
     ]
    }
   ],
   "source": [
    "train_feature = []\n",
    "test_feature  = []\n",
    "train_target  = []\n",
    "test_target   = []\n",
    "seq_length    = 198\n",
    "\n",
    "for movie_name, ts in TS.items():\n",
    "    pep = 0\n",
    "    if movie_name != \"testretest\":\n",
    "        for i in ts:\n",
    "            pep += 1\n",
    "            if (pep <= 100):\n",
    "                if i.shape[0]>seq_length:\n",
    "                    k = i[:seq_length][:]\n",
    "                    train_feature.append(k)\n",
    "                    train_target.append(rel[movie_name])\n",
    "                    \n",
    "                    k = i[i.shape[0]-seq_length:][:]\n",
    "                    train_feature.append(k)\n",
    "                    train_target.append(rel[movie_name])\n",
    "                \n",
    "                elif i.shape[0]<seq_length:\n",
    "                    k = [[0]*300]*seq_length\n",
    "                    k[seq_length-i.shape[0]:] = i\n",
    "                    train_feature.append(k)\n",
    "                    train_target.append(rel[movie_name])\n",
    "                else:\n",
    "                    train_feature.append(i)\n",
    "                    train_target.append(rel[movie_name])\n",
    "\n",
    "            else:\n",
    "                if i.shape[0]>seq_length:\n",
    "                    k = i[:seq_length][:]\n",
    "                    test_feature.append(k)\n",
    "                    test_target.append(rel[movie_name])\n",
    "                   \n",
    "                    k = i[i.shape[0]-seq_length:][:]\n",
    "                    test_feature.append(k)\n",
    "                    test_target.append(rel[movie_name])\n",
    "                \n",
    "                elif i.shape[0]<seq_length:\n",
    "                    k = [[0]*300]*seq_length\n",
    "                    k[seq_length-i.shape[0]:] = i\n",
    "                    test_feature.append(k)\n",
    "                    test_target.append(rel[movie_name])\n",
    "                else:\n",
    "                    test_feature.append(i)\n",
    "                    test_target.append(rel[movie_name])\n",
    "        print(pep)\n",
    "    else:\n",
    "        for jj in ts:\n",
    "            pep = 0\n",
    "            for i in jj:\n",
    "                pep += 1\n",
    "                if (pep <= 100):\n",
    "                    if i.shape[0]>seq_length:\n",
    "                        k = i[:seq_length][:]\n",
    "                        train_feature.append(k)\n",
    "                        train_target.append(rel[movie_name])\n",
    "\n",
    "                        k = i[i.shape[0]-seq_length:][:]\n",
    "                        train_feature.append(k)\n",
    "                        train_target.append(rel[movie_name])\n",
    "\n",
    "                    elif i.shape[0]<seq_length:\n",
    "                        k = [[0]*300]*seq_length\n",
    "                        k[seq_length-i.shape[0]:] = i\n",
    "                        train_feature.append(k)\n",
    "                        train_target.append(rel[movie_name])\n",
    "                    else:\n",
    "                        train_feature.append(i)\n",
    "                        train_target.append(rel[movie_name])\n",
    "\n",
    "                else:\n",
    "                    if i.shape[0]>seq_length:\n",
    "                        k = i[:seq_length][:]\n",
    "                        test_feature.append(k)\n",
    "                        test_target.append(rel[movie_name])\n",
    "\n",
    "                        k = i[i.shape[0]-seq_length:][:]\n",
    "                        test_feature.append(k)\n",
    "                        test_target.append(rel[movie_name])\n",
    "\n",
    "                    elif i.shape[0]<seq_length:\n",
    "                        k = [[0]*300]*seq_length\n",
    "                        k[seq_length-i.shape[0]:] = i\n",
    "                        test_feature.append(k)\n",
    "                        test_target.append(rel[movie_name])\n",
    "                    else:\n",
    "                        test_feature.append(i)\n",
    "                        test_target.append(rel[movie_name])\n",
    "            print(pep)"
   ]
  },
  {
   "cell_type": "markdown",
   "id": "2c2c547f-dd11-4881-8f6d-bf9a04787a6a",
   "metadata": {
    "tags": []
   },
   "source": [
    "### Training, Validation, Test\n",
    "\n",
    "With the data in required shape, The following shows the split into training, validation, and test sets."
   ]
  },
  {
   "cell_type": "code",
   "execution_count": 5,
   "id": "31cc2a9b-713e-4b6a-a469-944aae53384d",
   "metadata": {},
   "outputs": [],
   "source": [
    "from torch.utils.data import TensorDataset, DataLoader\n",
    "\n",
    "train_data = TensorDataset(torch.from_numpy(np.array(train_feature)).float(),torch.from_numpy(np.array(train_target)).float())\n",
    "test_data  = TensorDataset(torch.from_numpy(np.array(test_feature)).float(),torch.from_numpy(np.array(test_target)).float())"
   ]
  },
  {
   "cell_type": "code",
   "execution_count": 6,
   "id": "6deceaea-cf4f-4516-8bea-dd4cbd609de5",
   "metadata": {},
   "outputs": [
    {
     "data": {
      "text/plain": [
       "(2700, 2052)"
      ]
     },
     "execution_count": 6,
     "metadata": {},
     "output_type": "execute_result"
    }
   ],
   "source": [
    "len(train_data),len(test_data)"
   ]
  },
  {
   "cell_type": "code",
   "execution_count": 7,
   "id": "b08f7b66-b862-4421-be4b-d1bf95336c7d",
   "metadata": {},
   "outputs": [],
   "source": [
    "from torch.utils.data.sampler import SubsetRandomSampler\n",
    "\n",
    "batch_size = 32\n",
    "valid_data  = 0.237\n",
    "t_train     = len(train_data)\n",
    "data_no     = list(range(t_train))\n",
    "np.random.shuffle(data_no)\n",
    "split_no    = int(np.ceil(valid_data*t_train))\n",
    "train,valid = data_no[split_no:],data_no[:split_no]\n",
    "\n",
    "train_sampler = SubsetRandomSampler(train)\n",
    "valid_sampler = SubsetRandomSampler(valid)\n",
    "\n",
    "train_loader  = DataLoader(train_data,batch_size=batch_size,sampler=train_sampler)\n",
    "valid_loader  = DataLoader(train_data,sampler=valid_sampler,batch_size=batch_size)\n",
    "test_loader   = DataLoader(test_data, batch_size=batch_size,shuffle = True)"
   ]
  },
  {
   "cell_type": "code",
   "execution_count": 8,
   "id": "712778a9-8de2-43c0-a828-3e0f10e1d900",
   "metadata": {},
   "outputs": [
    {
     "data": {
      "text/plain": [
       "640"
      ]
     },
     "execution_count": 8,
     "metadata": {},
     "output_type": "execute_result"
    }
   ],
   "source": [
    "len(valid)"
   ]
  },
  {
   "cell_type": "code",
   "execution_count": 9,
   "id": "b8b16bb6-a738-453b-b643-614545dff6ef",
   "metadata": {},
   "outputs": [
    {
     "data": {
      "text/plain": [
       "(65, 20, 65)"
      ]
     },
     "execution_count": 9,
     "metadata": {},
     "output_type": "execute_result"
    }
   ],
   "source": [
    "len(train_loader),len(valid_loader),len(test_loader)"
   ]
  },
  {
   "cell_type": "code",
   "execution_count": 10,
   "id": "0164e572-1cde-43d2-9962-8807168c9f1c",
   "metadata": {},
   "outputs": [
    {
     "data": {
      "text/plain": [
       "torch.Size([32, 198, 300])"
      ]
     },
     "execution_count": 10,
     "metadata": {},
     "output_type": "execute_result"
    }
   ],
   "source": [
    "iter(train_loader).next()[0].shape"
   ]
  },
  {
   "cell_type": "code",
   "execution_count": 11,
   "id": "94466fed-c399-40ae-bcac-6531df7eb884",
   "metadata": {},
   "outputs": [],
   "source": [
    "is_cuda = torch.cuda.is_available()\n",
    "\n",
    "if is_cuda:\n",
    "    device = torch.device(\"cuda\")\n",
    "else:\n",
    "    device = torch.device(\"cpu\")"
   ]
  },
  {
   "cell_type": "markdown",
   "id": "6b125b2a-bb8d-4ce6-9f0a-8e069a79df24",
   "metadata": {
    "tags": []
   },
   "source": [
    "## Models"
   ]
  },
  {
   "cell_type": "markdown",
   "id": "068beeed-357c-4d28-a104-eeaac7407776",
   "metadata": {},
   "source": [
    "### Implementing the `Attention` Model\n",
    "\n",
    "The following figures shows the idea behind it (normalization layers are not shown)\n",
    "\n",
    "\n",
    "<img src=\"attntion1.png\" align=\"center\">"
   ]
  },
  {
   "cell_type": "code",
   "execution_count": 12,
   "id": "9395ab00-3686-43e3-9c28-437fe02a2f6c",
   "metadata": {},
   "outputs": [],
   "source": [
    "class Attention(nn.Module):\n",
    "    def __init__(self, hidden_dim, seq_len, bias=False, **kwargs):\n",
    "        super(Attention, self).__init__(**kwargs)\n",
    "        \n",
    "        self.supports_masking = True\n",
    "        self.bias       = bias\n",
    "        self.hidden_dim = hidden_dim\n",
    "        self.seq_len    = seq_len\n",
    "        \n",
    "        weight = torch.zeros(hidden_dim, 1)\n",
    "        nn.init.kaiming_uniform_(weight)\n",
    "        \n",
    "        context = torch.zeros(seq_len,seq_len)\n",
    "        nn.init.kaiming_uniform_(context)\n",
    "        \n",
    "        self.context = nn.Parameter(context)\n",
    "        self.weight  = nn.Parameter(weight)\n",
    "        \n",
    "        if bias:\n",
    "            self.b = nn.Parameter(torch.zeros(seq_len))\n",
    "        \n",
    "    def forward(self, x,mask=None):\n",
    "\n",
    "        eij = torch.mm(x.contiguous().view(-1, self.hidden_dim ), self.weight).view(-1,self.seq_len)\n",
    "        if self.bias:\n",
    "            eij = eij + self.b    \n",
    "        eij = torch.tanh(eij)\n",
    "        \n",
    "        eij = torch.mm(eij,self.context)\n",
    "        eij = torch.nn.functional.normalize(eij,p=2.0,dim=0)\n",
    "        a = torch.exp(eij)\n",
    "        \n",
    "        if mask is not None:\n",
    "            a = a * mask\n",
    "\n",
    "        a = a / (torch.sum(a, 1, keepdim=True) + 1e-10)\n",
    "        weighted_input = x * torch.unsqueeze(a, -1)\n",
    "        weighted_input = torch.nn.functional.normalize(weighted_input,p=2.0,dim=0)\n",
    "        \n",
    "        return torch.sum(weighted_input, 1)"
   ]
  },
  {
   "cell_type": "markdown",
   "id": "f8d18314-cd91-4a77-ac9e-a996e32f9f26",
   "metadata": {
    "tags": []
   },
   "source": [
    "### `GRU Classifier` Model as described in the [paper](https://journals.plos.org/ploscompbiol/article?id=10.1371/journal.pcbi.1008943) with added normalization layers\n",
    "<img src=\"gru.png\">"
   ]
  },
  {
   "cell_type": "code",
   "execution_count": 13,
   "id": "38bdfe5d-4dad-457c-b515-3ae4e337af61",
   "metadata": {},
   "outputs": [],
   "source": [
    "class GRU_RNN(nn.Module):\n",
    "\n",
    "    def __init__(self, input_dim, output_dim,hidden_dim,n_layers,att=True,drop_prob=0.000006):\n",
    "        super(GRU_RNN, self).__init__()\n",
    "\n",
    "        self.output_dim = output_dim\n",
    "        self.n_layers   = n_layers\n",
    "        self.hidden_dim = hidden_dim\n",
    "        self.att        = att\n",
    "        \n",
    "        self.gru       = nn.GRU(input_dim,hidden_dim,num_layers=n_layers,dropout=drop_prob,batch_first=True)\n",
    "        self.linear    = nn.Linear(hidden_dim,output_dim)\n",
    "        if att:\n",
    "            self.attention = Attention(hidden_dim, 198)\n",
    "        \n",
    "        self.dropout   = nn.Dropout(0.3)\n",
    "        self.func      = nn.Softmax(dim = -1)\n",
    "\n",
    "    def forward(self, x, hidden,encoder_x=0):\n",
    "        x,hidden = self.gru(x,hidden)\n",
    "\n",
    "        if self.att:\n",
    "            x = self.attention(x)\n",
    "        else:\n",
    "            x = x[:, -1, :]\n",
    "        \n",
    "        x = torch.nn.functional.normalize(x,dim=0)\n",
    "        \n",
    "        x = self.dropout(x)\n",
    "        x = self.linear(x)\n",
    "        sig_out = self.func(x)\n",
    "        \n",
    "        return sig_out, hidden\n",
    "    \n",
    "    def init_hidden(self, batch_size):\n",
    "        weight = next(self.parameters()).data\n",
    "        hidden = weight.new(self.n_layers, batch_size, self.hidden_dim).zero_().to(device)\n",
    "        return hidden"
   ]
  },
  {
   "cell_type": "markdown",
   "id": "782f2153-8768-40da-ad15-a1f3747840e4",
   "metadata": {
    "tags": []
   },
   "source": [
    "## Training"
   ]
  },
  {
   "cell_type": "code",
   "execution_count": 14,
   "id": "80c60a8b-78e7-4de1-b139-94d05c3ef499",
   "metadata": {},
   "outputs": [],
   "source": [
    "def train(epochs,train_loader,net,valid_loader,optimzer,criterion,att=True):\n",
    "    val_acc = []\n",
    "    tr_acc = []\n",
    "    \n",
    "    clip = 3 # gradient clipping\n",
    "\n",
    "    net.to(device)\n",
    "    net.train()\n",
    "    \n",
    "    valid_loss_min = np.Inf \n",
    "    \n",
    "    valid_losses = []\n",
    "    train_losses = []\n",
    "    \n",
    "    for e in range(epochs):\n",
    "        num_correct = 0\n",
    "        h = net.init_hidden(batch_size)\n",
    "        train_loss = []\n",
    "        valid_loss = []\n",
    "        train_acc  = 0.0\n",
    "        valid_acc  = 0.0 \n",
    "        counter = 0\n",
    "        for inputs, labels in train_loader:\n",
    "            counter += 1\n",
    "            if counter == 65:\n",
    "                continue\n",
    "            inputs, labels = inputs.to(device), labels.type(torch.LongTensor).to(device)\n",
    "            h = h.data\n",
    "            net.zero_grad()\n",
    "\n",
    "            output, h = net(inputs, h) \n",
    "            pred = torch.round(output.squeeze()) \n",
    "            top_value, top_index = torch.max(pred,1)\n",
    "            correct_tensor = top_index.eq(labels.float().view_as(top_index))\n",
    "            correct = np.squeeze(correct_tensor.to('cpu').numpy())\n",
    "            num_correct += np.sum(correct)\n",
    "\n",
    "\n",
    "            loss = criterion(output, labels)\n",
    "            loss.backward()\n",
    "            nn.utils.clip_grad_norm_(net.parameters(), clip)\n",
    "            optimizer.step()\n",
    "\n",
    "            train_loss.append(loss.item())\n",
    "        tr_acc.append(num_correct/((len(train_loader)-1)*batch_size))\n",
    "\n",
    "\n",
    "\n",
    "        acc = 0.0\n",
    "        val_h = net.init_hidden(batch_size)\n",
    "        val_losses = []\n",
    "        net.eval()\n",
    "        num_correct = 0\n",
    "        v_c = 0\n",
    "        for inputs, labels in valid_loader:\n",
    "            v_c += 1\n",
    "            \n",
    "            val_h = val_h.data\n",
    "            inputs, labels = inputs.to(device), labels.type(torch.LongTensor).to(device)\n",
    "\n",
    "            output, val_h = net(inputs, val_h)\n",
    "            \n",
    "            pred = torch.round(output.squeeze()) \n",
    "            top_value, top_index = torch.max(pred,1)\n",
    "            correct_tensor = top_index.eq(labels.float().view_as(top_index))\n",
    "            correct = np.squeeze(correct_tensor.to('cpu').numpy())\n",
    "            num_correct += np.sum(correct)\n",
    "\n",
    "            val_loss = criterion(output.squeeze(),labels)\n",
    "            val_losses.append(val_loss.item())\n",
    "            \n",
    "            if val_loss.item() <= valid_loss_min:\n",
    "                print('Validation loss decreased ({:.6f} --> {:.6f}).  Saving model ...'.format(valid_loss_min, val_loss.item()))\n",
    "                best_epoch = e\n",
    "                if att:\n",
    "                    torch.save(net.state_dict(), 'RNN_GRU_Att.pt')\n",
    "                else:\n",
    "                    torch.save(net.state_dict(), 'RNN_GRU.pt')\n",
    "                valid_loss_min = val_loss.item()\n",
    "\n",
    "        net.train()\n",
    "        valid_losses.append(np.mean(val_losses))\n",
    "        train_losses.append(np.mean(train_loss))\n",
    "        val_acc.append(num_correct/(len(valid_loader)*batch_size))\n",
    "        print('Epoch: {}/{} \\tTraining Loss: {:.6f} \\tValidation Loss: {:.6f}'.format(e+1,epochs,np.mean(train_loss),np.mean(val_losses)))\n",
    "    return train_losses,valid_losses,tr_acc,val_acc,best_epoch"
   ]
  },
  {
   "cell_type": "code",
   "execution_count": 15,
   "id": "f7f4a78c-9568-4b03-905b-e41dd00c79e2",
   "metadata": {},
   "outputs": [],
   "source": [
    "epochs     = 55\n",
    "input_dim  = 300\n",
    "hidden_dim = 32\n",
    "output_dim = 15\n",
    "n_layers   = 2\n",
    "lr         = 0.006"
   ]
  },
  {
   "cell_type": "markdown",
   "id": "cb106ebb-8426-416c-ada2-830c039d2ed3",
   "metadata": {},
   "source": [
    "### Training with Attention Layer"
   ]
  },
  {
   "cell_type": "code",
   "execution_count": 16,
   "id": "57404114-18e9-4aa3-bd8d-083439bb501f",
   "metadata": {},
   "outputs": [
    {
     "name": "stdout",
     "output_type": "stream",
     "text": [
      "GRU_RNN(\n",
      "  (gru): GRU(300, 32, num_layers=2, batch_first=True, dropout=6e-06)\n",
      "  (linear): Linear(in_features=32, out_features=15, bias=True)\n",
      "  (attention): Attention()\n",
      "  (dropout): Dropout(p=0.3, inplace=False)\n",
      "  (func): Softmax(dim=-1)\n",
      ")\n"
     ]
    }
   ],
   "source": [
    "model     = GRU_RNN(input_dim, output_dim, hidden_dim, n_layers)\n",
    "optimizer = torch.optim.Adam(model.parameters(), lr=lr)\n",
    "criterion = nn.CrossEntropyLoss()\n",
    "print(model)"
   ]
  },
  {
   "cell_type": "code",
   "execution_count": 17,
   "id": "3fba8d73-163a-442f-80ca-03fa23f00d11",
   "metadata": {},
   "outputs": [
    {
     "name": "stdout",
     "output_type": "stream",
     "text": [
      "Validation loss decreased (inf --> 2.460595).  Saving model ...\n",
      "Validation loss decreased (2.460595 --> 2.450120).  Saving model ...\n",
      "Epoch: 1/55 \tTraining Loss: 2.626313 \tValidation Loss: 2.537326\n",
      "Validation loss decreased (2.450120 --> 2.446825).  Saving model ...\n",
      "Validation loss decreased (2.446825 --> 2.369020).  Saving model ...\n",
      "Validation loss decreased (2.369020 --> 2.322623).  Saving model ...\n",
      "Validation loss decreased (2.322623 --> 2.311279).  Saving model ...\n",
      "Epoch: 2/55 \tTraining Loss: 2.474487 \tValidation Loss: 2.409692\n",
      "Validation loss decreased (2.311279 --> 2.242324).  Saving model ...\n",
      "Validation loss decreased (2.242324 --> 2.202667).  Saving model ...\n",
      "Validation loss decreased (2.202667 --> 2.189496).  Saving model ...\n",
      "Validation loss decreased (2.189496 --> 2.160033).  Saving model ...\n",
      "Validation loss decreased (2.160033 --> 2.137759).  Saving model ...\n",
      "Epoch: 3/55 \tTraining Loss: 2.334693 \tValidation Loss: 2.240957\n",
      "Validation loss decreased (2.137759 --> 2.025883).  Saving model ...\n",
      "Epoch: 4/55 \tTraining Loss: 2.207295 \tValidation Loss: 2.175002\n",
      "Validation loss decreased (2.025883 --> 2.016860).  Saving model ...\n",
      "Epoch: 5/55 \tTraining Loss: 2.145841 \tValidation Loss: 2.123194\n",
      "Validation loss decreased (2.016860 --> 2.001633).  Saving model ...\n",
      "Validation loss decreased (2.001633 --> 1.988718).  Saving model ...\n",
      "Epoch: 6/55 \tTraining Loss: 2.095368 \tValidation Loss: 2.069669\n",
      "Validation loss decreased (1.988718 --> 1.973650).  Saving model ...\n",
      "Validation loss decreased (1.973650 --> 1.927086).  Saving model ...\n",
      "Epoch: 7/55 \tTraining Loss: 2.032515 \tValidation Loss: 2.029136\n",
      "Validation loss decreased (1.927086 --> 1.926798).  Saving model ...\n",
      "Epoch: 8/55 \tTraining Loss: 2.005796 \tValidation Loss: 2.010070\n",
      "Validation loss decreased (1.926798 --> 1.908141).  Saving model ...\n",
      "Validation loss decreased (1.908141 --> 1.895407).  Saving model ...\n",
      "Epoch: 9/55 \tTraining Loss: 1.990979 \tValidation Loss: 1.993857\n",
      "Epoch: 10/55 \tTraining Loss: 1.978685 \tValidation Loss: 1.983807\n",
      "Validation loss decreased (1.895407 --> 1.860241).  Saving model ...\n",
      "Epoch: 11/55 \tTraining Loss: 1.972388 \tValidation Loss: 1.983245\n",
      "Epoch: 12/55 \tTraining Loss: 1.967829 \tValidation Loss: 1.971650\n",
      "Epoch: 13/55 \tTraining Loss: 1.950152 \tValidation Loss: 1.952379\n",
      "Epoch: 14/55 \tTraining Loss: 1.936727 \tValidation Loss: 1.934693\n",
      "Epoch: 15/55 \tTraining Loss: 1.918329 \tValidation Loss: 1.934239\n",
      "Epoch: 16/55 \tTraining Loss: 1.901347 \tValidation Loss: 1.913661\n",
      "Validation loss decreased (1.860241 --> 1.857917).  Saving model ...\n",
      "Epoch: 17/55 \tTraining Loss: 1.879446 \tValidation Loss: 1.891985\n",
      "Validation loss decreased (1.857917 --> 1.848831).  Saving model ...\n",
      "Validation loss decreased (1.848831 --> 1.843407).  Saving model ...\n",
      "Validation loss decreased (1.843407 --> 1.839880).  Saving model ...\n",
      "Epoch: 18/55 \tTraining Loss: 1.852243 \tValidation Loss: 1.875011\n",
      "Validation loss decreased (1.839880 --> 1.831507).  Saving model ...\n",
      "Epoch: 19/55 \tTraining Loss: 1.840118 \tValidation Loss: 1.865991\n",
      "Epoch: 20/55 \tTraining Loss: 1.838081 \tValidation Loss: 1.882781\n",
      "Validation loss decreased (1.831507 --> 1.828435).  Saving model ...\n",
      "Epoch: 21/55 \tTraining Loss: 1.839311 \tValidation Loss: 1.866413\n",
      "Validation loss decreased (1.828435 --> 1.827598).  Saving model ...\n",
      "Validation loss decreased (1.827598 --> 1.825725).  Saving model ...\n",
      "Epoch: 22/55 \tTraining Loss: 1.831747 \tValidation Loss: 1.863140\n",
      "Validation loss decreased (1.825725 --> 1.824893).  Saving model ...\n",
      "Epoch: 23/55 \tTraining Loss: 1.827384 \tValidation Loss: 1.855738\n",
      "Validation loss decreased (1.824893 --> 1.823144).  Saving model ...\n",
      "Epoch: 24/55 \tTraining Loss: 1.824750 \tValidation Loss: 1.854096\n",
      "Validation loss decreased (1.823144 --> 1.822124).  Saving model ...\n",
      "Epoch: 25/55 \tTraining Loss: 1.824025 \tValidation Loss: 1.854424\n",
      "Validation loss decreased (1.822124 --> 1.822054).  Saving model ...\n",
      "Epoch: 26/55 \tTraining Loss: 1.823296 \tValidation Loss: 1.851776\n",
      "Epoch: 27/55 \tTraining Loss: 1.822038 \tValidation Loss: 1.853452\n",
      "Validation loss decreased (1.822054 --> 1.821710).  Saving model ...\n",
      "Validation loss decreased (1.821710 --> 1.820994).  Saving model ...\n",
      "Epoch: 28/55 \tTraining Loss: 1.821151 \tValidation Loss: 1.850123\n",
      "Epoch: 29/55 \tTraining Loss: 1.821059 \tValidation Loss: 1.850583\n",
      "Validation loss decreased (1.820994 --> 1.820690).  Saving model ...\n",
      "Validation loss decreased (1.820690 --> 1.819190).  Saving model ...\n",
      "Epoch: 30/55 \tTraining Loss: 1.820930 \tValidation Loss: 1.847693\n",
      "Epoch: 31/55 \tTraining Loss: 1.820386 \tValidation Loss: 1.847182\n",
      "Epoch: 32/55 \tTraining Loss: 1.820652 \tValidation Loss: 1.852044\n",
      "Validation loss decreased (1.819190 --> 1.818134).  Saving model ...\n",
      "Epoch: 33/55 \tTraining Loss: 1.820571 \tValidation Loss: 1.851036\n",
      "Epoch: 34/55 \tTraining Loss: 1.820105 \tValidation Loss: 1.850888\n",
      "Epoch: 35/55 \tTraining Loss: 1.819813 \tValidation Loss: 1.849949\n",
      "Epoch: 36/55 \tTraining Loss: 1.820245 \tValidation Loss: 1.848854\n",
      "Epoch: 37/55 \tTraining Loss: 1.819474 \tValidation Loss: 1.847305\n",
      "Epoch: 38/55 \tTraining Loss: 1.820041 \tValidation Loss: 1.850703\n",
      "Epoch: 39/55 \tTraining Loss: 1.820343 \tValidation Loss: 1.846082\n",
      "Validation loss decreased (1.818134 --> 1.817978).  Saving model ...\n",
      "Epoch: 40/55 \tTraining Loss: 1.820174 \tValidation Loss: 1.844967\n",
      "Epoch: 41/55 \tTraining Loss: 1.820215 \tValidation Loss: 1.851741\n",
      "Epoch: 42/55 \tTraining Loss: 1.820166 \tValidation Loss: 1.853149\n",
      "Validation loss decreased (1.817978 --> 1.817904).  Saving model ...\n",
      "Epoch: 43/55 \tTraining Loss: 1.820348 \tValidation Loss: 1.854758\n",
      "Epoch: 44/55 \tTraining Loss: 1.832030 \tValidation Loss: 1.898129\n",
      "Epoch: 45/55 \tTraining Loss: 1.881048 \tValidation Loss: 1.915641\n",
      "Epoch: 46/55 \tTraining Loss: 1.897483 \tValidation Loss: 1.914950\n",
      "Epoch: 47/55 \tTraining Loss: 1.866316 \tValidation Loss: 1.892137\n",
      "Epoch: 48/55 \tTraining Loss: 1.852916 \tValidation Loss: 1.882126\n",
      "Epoch: 49/55 \tTraining Loss: 1.845403 \tValidation Loss: 1.873276\n",
      "Epoch: 50/55 \tTraining Loss: 1.836491 \tValidation Loss: 1.869029\n",
      "Epoch: 51/55 \tTraining Loss: 1.829770 \tValidation Loss: 1.864313\n",
      "Validation loss decreased (1.817904 --> 1.817527).  Saving model ...\n",
      "Epoch: 52/55 \tTraining Loss: 1.827708 \tValidation Loss: 1.867004\n",
      "Epoch: 53/55 \tTraining Loss: 1.825312 \tValidation Loss: 1.869190\n",
      "Epoch: 54/55 \tTraining Loss: 1.825941 \tValidation Loss: 1.862438\n",
      "Epoch: 55/55 \tTraining Loss: 1.822005 \tValidation Loss: 1.861768\n"
     ]
    }
   ],
   "source": [
    "train_losses,valid_losses,tr_acc,val_acc,best_epoch = train(epochs,train_loader,model,valid_loader,optimizer,criterion)"
   ]
  },
  {
   "cell_type": "code",
   "execution_count": 41,
   "id": "9b62a322-3c2a-453a-83c7-707d8f9f130f",
   "metadata": {},
   "outputs": [
    {
     "data": {
      "image/png": "[encoded data removed]",
      "text/plain": [
       "<Figure size 1440x864 with 2 Axes>"
      ]
     },
     "metadata": {
      "filenames": {
       "image/png": "/home/akshat/Book/_build/jupyter_execute/attention_30_0.png"
      },
      "needs_background": "light"
     },
     "output_type": "display_data"
    }
   ],
   "source": [
    "import matplotlib.pyplot as plt\n",
    "x     = [i for i in range(1,epochs+1)]\n",
    "xi    = [i for i in range(0,epochs+5,5)]\n",
    "xi[0] = 1\n",
    "f, axis = plt.subplots(2,1)\n",
    "f.set_figwidth(20)\n",
    "f.set_figheight(12)\n",
    "plt.subplots_adjust(top=0.8, wspace=0.2,hspace=0.3)\n",
    "\n",
    "axis[0].plot(x,train_losses)\n",
    "axis[0].plot(x,valid_losses)\n",
    "axis[0].axvline(best_epoch, color='black')\n",
    "axis[0].set_xticks(xi)\n",
    "axis[0].set_xlabel(\"Epochs\",fontweight=\"bold\",color = 'Black', fontsize='15', horizontalalignment='center')\n",
    "axis[0].set_ylabel(\"Loss\",fontweight=\"bold\",color = 'Black', fontsize='15', horizontalalignment='center')\n",
    "axis[0].set_title(\"Losses (with Attention)\",fontweight='bold',color = 'Black', fontsize='15', horizontalalignment='center')\n",
    "axis[0].legend([\"Training Loss\",\"Valid Loss\",f\"Best Epoch= {best_epoch}\"])\n",
    "\n",
    "\n",
    "axis[1].plot(x,tr_acc)\n",
    "axis[1].plot(x,val_acc)\n",
    "axis[1].set_xticks(xi)\n",
    "axis[1].set_xlabel(\"Epochs\", fontweight='bold',color = 'Black', fontsize='15', horizontalalignment='center')\n",
    "axis[1].set_ylabel(\"Accuracy\",fontweight='bold',color = 'Black', fontsize='15', horizontalalignment='center')\n",
    "axis[1].set_title(\"Accuracies (with Attention)\",fontweight='bold',color = 'Black', fontsize='15', horizontalalignment='center')\n",
    "axis[1].legend([\"Training Accuracy\",\"Valid Accuracy\"]);"
   ]
  },
  {
   "cell_type": "markdown",
   "id": "d451cfb4-c60d-4dad-bfd8-75f2d64f28c4",
   "metadata": {},
   "source": [
    "### Training without Attention Layer"
   ]
  },
  {
   "cell_type": "code",
   "execution_count": 20,
   "id": "c1f49059-0f50-4109-9915-be4c571c76ee",
   "metadata": {},
   "outputs": [
    {
     "name": "stdout",
     "output_type": "stream",
     "text": [
      "GRU_RNN(\n",
      "  (gru): GRU(300, 32, num_layers=2, batch_first=True, dropout=6e-06)\n",
      "  (linear): Linear(in_features=32, out_features=15, bias=True)\n",
      "  (dropout): Dropout(p=0.3, inplace=False)\n",
      "  (func): Softmax(dim=-1)\n",
      ")\n"
     ]
    }
   ],
   "source": [
    "model     = GRU_RNN(input_dim, output_dim, hidden_dim, n_layers,att=False)\n",
    "optimizer = torch.optim.Adam(model.parameters(), lr=lr)\n",
    "criterion = nn.CrossEntropyLoss()\n",
    "print(model)"
   ]
  },
  {
   "cell_type": "code",
   "execution_count": 21,
   "id": "a46164b3-eeba-414b-a5d9-49b7f6561421",
   "metadata": {},
   "outputs": [
    {
     "name": "stdout",
     "output_type": "stream",
     "text": [
      "Validation loss decreased (inf --> 2.545301).  Saving model ...\n",
      "Validation loss decreased (2.545301 --> 2.533257).  Saving model ...\n",
      "Validation loss decreased (2.533257 --> 2.531535).  Saving model ...\n",
      "Validation loss decreased (2.531535 --> 2.516872).  Saving model ...\n",
      "Validation loss decreased (2.516872 --> 2.510700).  Saving model ...\n",
      "Validation loss decreased (2.510700 --> 2.493381).  Saving model ...\n",
      "Validation loss decreased (2.493381 --> 2.481485).  Saving model ...\n",
      "Epoch: 1/55 \tTraining Loss: 2.652888 \tValidation Loss: 2.565683\n",
      "Validation loss decreased (2.481485 --> 2.447845).  Saving model ...\n",
      "Validation loss decreased (2.447845 --> 2.406661).  Saving model ...\n",
      "Validation loss decreased (2.406661 --> 2.303786).  Saving model ...\n",
      "Epoch: 2/55 \tTraining Loss: 2.499074 \tValidation Loss: 2.428971\n",
      "Validation loss decreased (2.303786 --> 2.221249).  Saving model ...\n",
      "Epoch: 3/55 \tTraining Loss: 2.354188 \tValidation Loss: 2.317046\n",
      "Validation loss decreased (2.221249 --> 2.162966).  Saving model ...\n",
      "Validation loss decreased (2.162966 --> 2.146771).  Saving model ...\n",
      "Epoch: 4/55 \tTraining Loss: 2.247725 \tValidation Loss: 2.260781\n",
      "Validation loss decreased (2.146771 --> 2.113818).  Saving model ...\n",
      "Validation loss decreased (2.113818 --> 2.078197).  Saving model ...\n",
      "Epoch: 5/55 \tTraining Loss: 2.192539 \tValidation Loss: 2.226911\n",
      "Epoch: 6/55 \tTraining Loss: 2.163089 \tValidation Loss: 2.238732\n",
      "Validation loss decreased (2.078197 --> 2.023893).  Saving model ...\n",
      "Epoch: 7/55 \tTraining Loss: 2.142199 \tValidation Loss: 2.207740\n",
      "Epoch: 8/55 \tTraining Loss: 2.113351 \tValidation Loss: 2.173619\n",
      "Epoch: 9/55 \tTraining Loss: 2.078088 \tValidation Loss: 2.169528\n",
      "Validation loss decreased (2.023893 --> 2.017962).  Saving model ...\n",
      "Epoch: 10/55 \tTraining Loss: 2.063180 \tValidation Loss: 2.153991\n",
      "Epoch: 11/55 \tTraining Loss: 2.051243 \tValidation Loss: 2.147537\n",
      "Epoch: 12/55 \tTraining Loss: 2.046025 \tValidation Loss: 2.143525\n",
      "Epoch: 13/55 \tTraining Loss: 2.047178 \tValidation Loss: 2.145517\n",
      "Validation loss decreased (2.017962 --> 2.015853).  Saving model ...\n",
      "Epoch: 14/55 \tTraining Loss: 2.039991 \tValidation Loss: 2.135093\n",
      "Validation loss decreased (2.015853 --> 1.978165).  Saving model ...\n",
      "Epoch: 15/55 \tTraining Loss: 2.029968 \tValidation Loss: 2.137901\n",
      "Validation loss decreased (1.978165 --> 1.977687).  Saving model ...\n",
      "Validation loss decreased (1.977687 --> 1.963445).  Saving model ...\n",
      "Epoch: 16/55 \tTraining Loss: 2.016379 \tValidation Loss: 2.110173\n",
      "Validation loss decreased (1.963445 --> 1.952728).  Saving model ...\n",
      "Epoch: 17/55 \tTraining Loss: 2.007896 \tValidation Loss: 2.110066\n",
      "Validation loss decreased (1.952728 --> 1.914644).  Saving model ...\n",
      "Epoch: 18/55 \tTraining Loss: 2.001942 \tValidation Loss: 2.103128\n",
      "Epoch: 19/55 \tTraining Loss: 1.989013 \tValidation Loss: 2.080157\n",
      "Epoch: 20/55 \tTraining Loss: 1.988248 \tValidation Loss: 2.097991\n",
      "Epoch: 21/55 \tTraining Loss: 1.974552 \tValidation Loss: 2.086381\n",
      "Epoch: 22/55 \tTraining Loss: 1.973481 \tValidation Loss: 2.082437\n",
      "Epoch: 23/55 \tTraining Loss: 1.969720 \tValidation Loss: 2.074637\n",
      "Epoch: 24/55 \tTraining Loss: 1.976949 \tValidation Loss: 2.094895\n",
      "Epoch: 25/55 \tTraining Loss: 1.999084 \tValidation Loss: 2.078541\n",
      "Epoch: 26/55 \tTraining Loss: 1.974468 \tValidation Loss: 2.061726\n",
      "Epoch: 27/55 \tTraining Loss: 1.965421 \tValidation Loss: 2.067203\n",
      "Validation loss decreased (1.914644 --> 1.910154).  Saving model ...\n",
      "Epoch: 28/55 \tTraining Loss: 1.963503 \tValidation Loss: 2.081786\n",
      "Epoch: 29/55 \tTraining Loss: 1.987710 \tValidation Loss: 2.095160\n",
      "Epoch: 30/55 \tTraining Loss: 1.981952 \tValidation Loss: 2.120537\n",
      "Validation loss decreased (1.910154 --> 1.899656).  Saving model ...\n",
      "Epoch: 31/55 \tTraining Loss: 1.988240 \tValidation Loss: 2.077070\n",
      "Epoch: 32/55 \tTraining Loss: 1.953878 \tValidation Loss: 2.070462\n",
      "Epoch: 33/55 \tTraining Loss: 1.964651 \tValidation Loss: 2.084830\n",
      "Epoch: 34/55 \tTraining Loss: 1.984905 \tValidation Loss: 2.091215\n",
      "Epoch: 35/55 \tTraining Loss: 1.971919 \tValidation Loss: 2.084209\n",
      "Epoch: 36/55 \tTraining Loss: 1.971070 \tValidation Loss: 2.057327\n",
      "Epoch: 37/55 \tTraining Loss: 1.955013 \tValidation Loss: 2.068352\n",
      "Epoch: 38/55 \tTraining Loss: 1.940363 \tValidation Loss: 2.047106\n",
      "Epoch: 39/55 \tTraining Loss: 1.951438 \tValidation Loss: 2.048303\n",
      "Epoch: 40/55 \tTraining Loss: 1.947062 \tValidation Loss: 2.058026\n",
      "Epoch: 41/55 \tTraining Loss: 1.944582 \tValidation Loss: 2.067151\n",
      "Epoch: 42/55 \tTraining Loss: 1.949983 \tValidation Loss: 2.072130\n",
      "Epoch: 43/55 \tTraining Loss: 1.951674 \tValidation Loss: 2.068213\n",
      "Epoch: 44/55 \tTraining Loss: 1.938705 \tValidation Loss: 2.055916\n",
      "Epoch: 45/55 \tTraining Loss: 1.955170 \tValidation Loss: 2.048982\n",
      "Epoch: 46/55 \tTraining Loss: 1.956112 \tValidation Loss: 2.067974\n",
      "Epoch: 47/55 \tTraining Loss: 1.947136 \tValidation Loss: 2.051667\n",
      "Epoch: 48/55 \tTraining Loss: 1.936365 \tValidation Loss: 2.073647\n",
      "Epoch: 49/55 \tTraining Loss: 1.937184 \tValidation Loss: 2.067187\n",
      "Epoch: 50/55 \tTraining Loss: 1.945901 \tValidation Loss: 2.057606\n",
      "Validation loss decreased (1.899656 --> 1.893953).  Saving model ...\n",
      "Epoch: 51/55 \tTraining Loss: 1.942983 \tValidation Loss: 2.068832\n",
      "Epoch: 52/55 \tTraining Loss: 1.941509 \tValidation Loss: 2.050035\n",
      "Epoch: 53/55 \tTraining Loss: 1.938688 \tValidation Loss: 2.033475\n",
      "Epoch: 54/55 \tTraining Loss: 1.934332 \tValidation Loss: 2.041124\n",
      "Epoch: 55/55 \tTraining Loss: 1.938455 \tValidation Loss: 2.048926\n"
     ]
    }
   ],
   "source": [
    "train_losses_1,valid_losses_1,tr_acc_1,val_acc_1,best_epoch_1= train(epochs,train_loader,model,valid_loader,optimizer,criterion,att=False)"
   ]
  },
  {
   "cell_type": "code",
   "execution_count": 42,
   "id": "b86bfb25-6861-4b0a-a662-b306660764f8",
   "metadata": {},
   "outputs": [
    {
     "data": {
      "image/png": "[encoded data removed]",
      "text/plain": [
       "<Figure size 1440x864 with 2 Axes>"
      ]
     },
     "metadata": {
      "filenames": {
       "image/png": "/home/akshat/Book/_build/jupyter_execute/attention_34_0.png"
      },
      "needs_background": "light"
     },
     "output_type": "display_data"
    }
   ],
   "source": [
    "f, axis = plt.subplots(2,1)\n",
    "f.set_figwidth(20)\n",
    "f.set_figheight(12)\n",
    "plt.subplots_adjust(top=0.8, wspace=0.2,hspace=0.3)\n",
    "\n",
    "axis[0].plot(x,train_losses_1)\n",
    "axis[0].plot(x,valid_losses_1)\n",
    "axis[0].axvline(best_epoch, color='black')\n",
    "axis[0].set_xticks(xi)\n",
    "axis[0].set_xlabel(\"Epochs\",fontweight=\"bold\",color = 'Black', fontsize='15', horizontalalignment='center')\n",
    "axis[0].set_ylabel(\"Loss\",fontweight=\"bold\",color = 'Black', fontsize='15', horizontalalignment='center')\n",
    "axis[0].set_title(\"Losses (without Attention)\",fontweight='bold',color = 'Black', fontsize='15', horizontalalignment='center')\n",
    "axis[0].legend([\"Training Loss\",\"Valid Loss\",f\"Best Epoch= {best_epoch_1}\"])\n",
    "\n",
    "\n",
    "axis[1].plot(x,tr_acc_1)\n",
    "axis[1].plot(x,val_acc_1)\n",
    "axis[1].set_xticks(xi)\n",
    "axis[1].set_xlabel(\"Epochs\", fontweight='bold',color = 'Black', fontsize='15', horizontalalignment='center')\n",
    "axis[1].set_ylabel(\"Accuracies\",fontweight='bold',color = 'Black', fontsize='15', horizontalalignment='center')\n",
    "axis[1].set_title(\"Accuracy (without Attention)\",fontweight='bold',color = 'Black', fontsize='15', horizontalalignment='center')\n",
    "axis[1].legend([\"Training Accuracy\",\"Valid Accuracy\"]);"
   ]
  },
  {
   "cell_type": "markdown",
   "id": "ca13d955-6efa-41c1-af86-a269d3c19e65",
   "metadata": {
    "tags": []
   },
   "source": [
    "## Testing"
   ]
  },
  {
   "cell_type": "code",
   "execution_count": 23,
   "id": "274e26e7-26be-44fb-864a-29508d82fba9",
   "metadata": {},
   "outputs": [],
   "source": [
    "def test(test_loader,net):\n",
    "    v_c = 0\n",
    "    net.to(device)\n",
    "    net.eval()\n",
    "    num_correct = 0\n",
    "    valid_acc = 0\n",
    "    h = net.init_hidden(batch_size)\n",
    "    for inputs, labels in test_loader:\n",
    "        v_c += 1\n",
    "        if (v_c == 65):\n",
    "            continue\n",
    "        h = h.data\n",
    "        inputs, labels = inputs.to(device), labels.type(torch.LongTensor).to(device)\n",
    "        \n",
    "        output, h = net(inputs, h)\n",
    "\n",
    "        pred = torch.round(output.squeeze()) \n",
    "        top_value, top_index = torch.max(pred,1)\n",
    "        correct_tensor = top_index.eq(labels.float().view_as(top_index))\n",
    "        correct = np.squeeze(correct_tensor.to('cpu').numpy())\n",
    "        num_correct += np.sum(correct)\n",
    "    \n",
    "    test_acc = num_correct/((len(test_loader)-1)*batch_size)\n",
    "    print(\"Test accuracy: {:.3f} %\".format(test_acc*100))"
   ]
  },
  {
   "cell_type": "markdown",
   "id": "91f9273c-b2bc-4934-9e2b-0e0d9a74e0d7",
   "metadata": {},
   "source": [
    "### Accuracy with Attention Layer"
   ]
  },
  {
   "cell_type": "code",
   "execution_count": 39,
   "id": "e38fa47f-8036-4646-ad00-2e022d9df2a4",
   "metadata": {},
   "outputs": [
    {
     "data": {
      "text/plain": [
       "<All keys matched successfully>"
      ]
     },
     "execution_count": 39,
     "metadata": {},
     "output_type": "execute_result"
    }
   ],
   "source": [
    "model = GRU_RNN(input_dim, output_dim, hidden_dim, n_layers)\n",
    "model.load_state_dict(torch.load('RNN_GRU_Att.pt'))"
   ]
  },
  {
   "cell_type": "code",
   "execution_count": 38,
   "id": "cbd08da8-e8cf-4c73-8774-5493094a744b",
   "metadata": {},
   "outputs": [
    {
     "name": "stdout",
     "output_type": "stream",
     "text": [
      "Test accuracy: 97.168 %\n"
     ]
    }
   ],
   "source": [
    "test(test_loader,model)"
   ]
  },
  {
   "cell_type": "markdown",
   "id": "1d52f2a7-eb3e-4b5b-8450-2b105fc9ef0c",
   "metadata": {},
   "source": [
    "### Accuracy without Attention Layer"
   ]
  },
  {
   "cell_type": "code",
   "execution_count": 26,
   "id": "5e7ae841-f3ea-4c57-839c-a93409fea501",
   "metadata": {},
   "outputs": [
    {
     "data": {
      "text/plain": [
       "<All keys matched successfully>"
      ]
     },
     "execution_count": 26,
     "metadata": {},
     "output_type": "execute_result"
    }
   ],
   "source": [
    "model = GRU_RNN(input_dim, output_dim, hidden_dim, n_layers,att=False)\n",
    "model.load_state_dict(torch.load('RNN_GRU.pt'))"
   ]
  },
  {
   "cell_type": "code",
   "execution_count": 27,
   "id": "a8dd6562-1f7f-4278-9400-7c2de56a17e4",
   "metadata": {},
   "outputs": [
    {
     "name": "stdout",
     "output_type": "stream",
     "text": [
      "Test accuracy: 80.420 %\n"
     ]
    }
   ],
   "source": [
    "test(test_loader,model)"
   ]
  },
  {
   "cell_type": "markdown",
   "id": "ca5d8b39-306a-4c53-97ad-dade7a5f6080",
   "metadata": {
    "tags": []
   },
   "source": [
    "## Conclusion\n",
    "\n",
    "Adding an Attention Layer has increased the model accuracy as expected.\n",
    "The model furthur can be extended/improved by using other methods such as `transformers`"
   ]
  }
 ],
 "metadata": {
  "kernelspec": {
   "display_name": "Python 3 (ipykernel)",
   "language": "python",
   "name": "python3"
  },
  "language_info": {
   "codemirror_mode": {
    "name": "ipython",
    "version": 3
   },
   "file_extension": ".py",
   "mimetype": "text/x-python",
   "name": "python",
   "nbconvert_exporter": "python",
   "pygments_lexer": "ipython3",
   "version": "3.9.12"
  }
 },
 "nbformat": 4,
 "nbformat_minor": 5
}