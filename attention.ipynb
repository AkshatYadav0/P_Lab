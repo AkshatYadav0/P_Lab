{
 "cells": [
  {
   "cell_type": "markdown",
   "id": "e00ed732-c657-4db0-85b7-167907b382b1",
   "metadata": {
    "tags": []
   },
   "source": [
    "# GRU + Attention (with normalization)"
   ]
  },
  {
   "cell_type": "markdown",
   "id": "a5842913-716a-49ff-8f46-2d5e5a175c6d",
   "metadata": {
    "tags": []
   },
   "source": [
    "## Overview"
   ]
  },
  {
   "cell_type": "markdown",
   "id": "ef11f2fb-5269-4c19-8c01-9006215208e9",
   "metadata": {},
   "source": [
    "**This notebook extends the GRU Classifier model (movie watching) described in the [paper](https://journals.plos.org/ploscompbiol/article?id=10.1371/journal.pcbi.1008943)  by adding an `Attention Layer` and normalization**\n",
    "\n",
    "Attention was first presented by Dzmitry Bahdanau, et al. in their paper [Neural Machine Translation by Jointly Learning to Align and Translate](https://arxiv.org/abs/1409.0473).\n"
   ]
  },
  {
   "cell_type": "markdown",
   "id": "2cd10e05-5e39-4c34-897a-67151f7179e4",
   "metadata": {
    "tags": []
   },
   "source": [
    "---\n",
    "## Data"
   ]
  },
  {
   "cell_type": "markdown",
   "id": "3d315492-15a6-46b8-8527-1e65f9712314",
   "metadata": {},
   "source": [
    "**Data provided is already preprocessed but needs to be converted in model usabale format**"
   ]
  },
  {
   "cell_type": "code",
   "execution_count": 1,
   "id": "3f6f36f2-a0bf-4460-bc88-4906ed055872",
   "metadata": {},
   "outputs": [],
   "source": [
    "import torch\n",
    "import pickle\n",
    "import numpy as np\n",
    "import torch.nn as nn"
   ]
  },
  {
   "cell_type": "code",
   "execution_count": 3,
   "id": "e1556b2d-782b-41c5-ade7-86913ca18b6d",
   "metadata": {},
   "outputs": [
    {
     "name": "stdout",
     "output_type": "stream",
     "text": [
      "dict_keys(['testretest', 'twomen', 'bridgeville', 'pockets', 'overcome', 'inception', 'socialnet', 'oceans', 'flower', 'hotel', 'garden', 'dreary', 'homealone', 'brokovich', 'starwars'])\n"
     ]
    }
   ],
   "source": [
    "with open('HCP_movie_watching.pkl','rb') as f:\n",
    "    TS = pickle.load(f)\n",
    "print(TS.keys())"
   ]
  },
  {
   "cell_type": "markdown",
   "id": "187648f5-bbf9-4131-bfd9-b9522b6ea286",
   "metadata": {
    "tags": []
   },
   "source": [
    "### Dataset organization\n",
    "`TS` is a dictionary with movie names as keys\n",
    "\n",
    "Value against each key is a numpy array of dimensions `[#participants, #time points, #ROIs]`\n",
    "\n",
    "Note that the testretest movie appears on all 4 runs for a participant, therefore the value has dimensions `[#runs, #participants, #time points, #ROIs]`"
   ]
  },
  {
   "cell_type": "code",
   "execution_count": 4,
   "id": "43363337-d949-448f-b761-99a9897a4f8d",
   "metadata": {},
   "outputs": [
    {
     "name": "stdout",
     "output_type": "stream",
     "text": [
      "testretest (4, 176, 84, 300)\n",
      "twomen (176, 245, 300)\n",
      "bridgeville (176, 222, 300)\n",
      "pockets (176, 189, 300)\n",
      "overcome (176, 65, 300)\n",
      "inception (176, 227, 300)\n",
      "socialnet (176, 260, 300)\n",
      "oceans (176, 250, 300)\n",
      "flower (176, 181, 300)\n",
      "hotel (176, 186, 300)\n",
      "garden (176, 205, 300)\n",
      "dreary (176, 143, 300)\n",
      "homealone (176, 233, 300)\n",
      "brokovich (176, 231, 300)\n",
      "starwars (176, 256, 300)\n"
     ]
    }
   ],
   "source": [
    "rel = {}\n",
    "l = 0\n",
    "for movie_name, ts in TS.items():\n",
    "    rel[movie_name] = l\n",
    "    l += 1\n",
    "    print(movie_name, ts.shape)"
   ]
  },
  {
   "cell_type": "markdown",
   "id": "7abfc207-6280-47e7-92c3-d77e5f908289",
   "metadata": {
    "tags": []
   },
   "source": [
    "### Padding sequences\n",
    "\n",
    "To deal with varying `time points`. For data with `time points < seq_length(self defined)` , I have paded them with 0s. For data with `time points > seq_length(self defined)`, I have split the data into 2 section first, into `[ : seq_length]`, second into `[data_time_point-seq_length : ]`. I have used the `seq_length = 198` (average time_point mentioned in the paper).\n",
    "\n",
    "**Final `features` array is a 2D array, with shape = `(seq_length,300)`.**\n",
    "\n",
    "The following block shows above mentioned discussion"
   ]
  },
  {
   "cell_type": "code",
   "execution_count": 5,
   "id": "607d6a22-aa55-4a97-81d0-1298f5886666",
   "metadata": {},
   "outputs": [
    {
     "name": "stdout",
     "output_type": "stream",
     "text": [
      "176\n",
      "176\n",
      "176\n",
      "176\n",
      "176\n",
      "176\n",
      "176\n",
      "176\n",
      "176\n",
      "176\n",
      "176\n",
      "176\n",
      "176\n",
      "176\n",
      "176\n",
      "176\n",
      "176\n",
      "176\n"
     ]
    }
   ],
   "source": [
    "train_feature = []\n",
    "test_feature  = []\n",
    "train_target  = []\n",
    "test_target   = []\n",
    "seq_length    = 198\n",
    "\n",
    "for movie_name, ts in TS.items():\n",
    "    pep = 0\n",
    "    if movie_name != \"testretest\":\n",
    "        for i in ts:\n",
    "            pep += 1\n",
    "            if (pep <= 100):\n",
    "                if i.shape[0]>seq_length:\n",
    "                    k = i[:seq_length][:]\n",
    "                    train_feature.append(k)\n",
    "                    train_target.append(rel[movie_name])\n",
    "                    \n",
    "                    k = i[i.shape[0]-seq_length:][:]\n",
    "                    train_feature.append(k)\n",
    "                    train_target.append(rel[movie_name])\n",
    "                \n",
    "                elif i.shape[0]<seq_length:\n",
    "                    k = [[0]*300]*seq_length\n",
    "                    k[seq_length-i.shape[0]:] = i\n",
    "                    train_feature.append(k)\n",
    "                    train_target.append(rel[movie_name])\n",
    "                else:\n",
    "                    train_feature.append(i)\n",
    "                    train_target.append(rel[movie_name])\n",
    "\n",
    "            else:\n",
    "                if i.shape[0]>seq_length:\n",
    "                    k = i[:seq_length][:]\n",
    "                    test_feature.append(k)\n",
    "                    test_target.append(rel[movie_name])\n",
    "                   \n",
    "                    k = i[i.shape[0]-seq_length:][:]\n",
    "                    test_feature.append(k)\n",
    "                    test_target.append(rel[movie_name])\n",
    "                \n",
    "                elif i.shape[0]<seq_length:\n",
    "                    k = [[0]*300]*seq_length\n",
    "                    k[seq_length-i.shape[0]:] = i\n",
    "                    test_feature.append(k)\n",
    "                    test_target.append(rel[movie_name])\n",
    "                else:\n",
    "                    test_feature.append(i)\n",
    "                    test_target.append(rel[movie_name])\n",
    "        print(pep)\n",
    "    else:\n",
    "        for jj in ts:\n",
    "            pep = 0\n",
    "            for i in jj:\n",
    "                pep += 1\n",
    "                if (pep <= 100):\n",
    "                    if i.shape[0]>seq_length:\n",
    "                        k = i[:seq_length][:]\n",
    "                        train_feature.append(k)\n",
    "                        train_target.append(rel[movie_name])\n",
    "\n",
    "                        k = i[i.shape[0]-seq_length:][:]\n",
    "                        train_feature.append(k)\n",
    "                        train_target.append(rel[movie_name])\n",
    "\n",
    "                    elif i.shape[0]<seq_length:\n",
    "                        k = [[0]*300]*seq_length\n",
    "                        k[seq_length-i.shape[0]:] = i\n",
    "                        train_feature.append(k)\n",
    "                        train_target.append(rel[movie_name])\n",
    "                    else:\n",
    "                        train_feature.append(i)\n",
    "                        train_target.append(rel[movie_name])\n",
    "\n",
    "                else:\n",
    "                    if i.shape[0]>seq_length:\n",
    "                        k = i[:seq_length][:]\n",
    "                        test_feature.append(k)\n",
    "                        test_target.append(rel[movie_name])\n",
    "\n",
    "                        k = i[i.shape[0]-seq_length:][:]\n",
    "                        test_feature.append(k)\n",
    "                        test_target.append(rel[movie_name])\n",
    "\n",
    "                    elif i.shape[0]<seq_length:\n",
    "                        k = [[0]*300]*seq_length\n",
    "                        k[seq_length-i.shape[0]:] = i\n",
    "                        test_feature.append(k)\n",
    "                        test_target.append(rel[movie_name])\n",
    "                    else:\n",
    "                        test_feature.append(i)\n",
    "                        test_target.append(rel[movie_name])\n",
    "            print(pep)"
   ]
  },
  {
   "cell_type": "markdown",
   "id": "2c2c547f-dd11-4881-8f6d-bf9a04787a6a",
   "metadata": {
    "tags": []
   },
   "source": [
    "### Training, Validation, Test\n",
    "\n",
    "With the data in required shape, The following shows the split into training, validation, and test sets."
   ]
  },
  {
   "cell_type": "code",
   "execution_count": 6,
   "id": "31cc2a9b-713e-4b6a-a469-944aae53384d",
   "metadata": {},
   "outputs": [],
   "source": [
    "from torch.utils.data import TensorDataset, DataLoader\n",
    "\n",
    "train_data = TensorDataset(torch.from_numpy(np.array(train_feature)).float(),torch.from_numpy(np.array(train_target)).float())\n",
    "test_data  = TensorDataset(torch.from_numpy(np.array(test_feature)).float(),torch.from_numpy(np.array(test_target)).float())"
   ]
  },
  {
   "cell_type": "code",
   "execution_count": 7,
   "id": "6deceaea-cf4f-4516-8bea-dd4cbd609de5",
   "metadata": {},
   "outputs": [
    {
     "data": {
      "text/plain": [
       "(2700, 2052)"
      ]
     },
     "execution_count": 7,
     "metadata": {},
     "output_type": "execute_result"
    }
   ],
   "source": [
    "len(train_data),len(test_data)"
   ]
  },
  {
   "cell_type": "code",
   "execution_count": 8,
   "id": "b08f7b66-b862-4421-be4b-d1bf95336c7d",
   "metadata": {},
   "outputs": [],
   "source": [
    "from torch.utils.data.sampler import SubsetRandomSampler\n",
    "\n",
    "batch_size = 32\n",
    "valid_data  = 0.237\n",
    "t_train     = len(train_data)\n",
    "data_no     = list(range(t_train))\n",
    "np.random.shuffle(data_no)\n",
    "split_no    = int(np.ceil(valid_data*t_train))\n",
    "train,valid = data_no[split_no:],data_no[:split_no]\n",
    "\n",
    "train_sampler = SubsetRandomSampler(train)\n",
    "valid_sampler = SubsetRandomSampler(valid)\n",
    "\n",
    "train_loader  = DataLoader(train_data,batch_size=batch_size,sampler=train_sampler)\n",
    "valid_loader  = DataLoader(train_data,sampler=valid_sampler,batch_size=batch_size)\n",
    "test_loader   = DataLoader(test_data, batch_size=batch_size,shuffle = True)"
   ]
  },
  {
   "cell_type": "code",
   "execution_count": 9,
   "id": "712778a9-8de2-43c0-a828-3e0f10e1d900",
   "metadata": {},
   "outputs": [
    {
     "data": {
      "text/plain": [
       "640"
      ]
     },
     "execution_count": 9,
     "metadata": {},
     "output_type": "execute_result"
    }
   ],
   "source": [
    "len(valid)"
   ]
  },
  {
   "cell_type": "code",
   "execution_count": 10,
   "id": "b8b16bb6-a738-453b-b643-614545dff6ef",
   "metadata": {},
   "outputs": [
    {
     "data": {
      "text/plain": [
       "(65, 20, 65)"
      ]
     },
     "execution_count": 10,
     "metadata": {},
     "output_type": "execute_result"
    }
   ],
   "source": [
    "len(train_loader),len(valid_loader),len(test_loader)"
   ]
  },
  {
   "cell_type": "code",
   "execution_count": 11,
   "id": "0164e572-1cde-43d2-9962-8807168c9f1c",
   "metadata": {},
   "outputs": [
    {
     "data": {
      "text/plain": [
       "torch.Size([32, 198, 300])"
      ]
     },
     "execution_count": 11,
     "metadata": {},
     "output_type": "execute_result"
    }
   ],
   "source": [
    "iter(train_loader).next()[0].shape"
   ]
  },
  {
   "cell_type": "code",
   "execution_count": 12,
   "id": "94466fed-c399-40ae-bcac-6531df7eb884",
   "metadata": {},
   "outputs": [],
   "source": [
    "is_cuda = torch.cuda.is_available()\n",
    "\n",
    "if is_cuda:\n",
    "    device = torch.device(\"cuda\")\n",
    "else:\n",
    "    device = torch.device(\"cpu\")"
   ]
  },
  {
   "cell_type": "markdown",
   "id": "6b125b2a-bb8d-4ce6-9f0a-8e069a79df24",
   "metadata": {
    "tags": []
   },
   "source": [
    "## Models"
   ]
  },
  {
   "cell_type": "markdown",
   "id": "068beeed-357c-4d28-a104-eeaac7407776",
   "metadata": {},
   "source": [
    "### Implementing the `Attention` Model\n",
    "\n",
    "The following figures shows the idea behind it (normalization layers are not shown)\n",
    "\n",
    "\n",
    "<img src=\"attntion1.png\" align=\"center\">"
   ]
  },
  {
   "cell_type": "code",
   "execution_count": 14,
   "id": "9395ab00-3686-43e3-9c28-437fe02a2f6c",
   "metadata": {},
   "outputs": [],
   "source": [
    "class Attention(nn.Module):\n",
    "    def __init__(self, hidden_dim, seq_len, bias=False, **kwargs):\n",
    "        super(Attention, self).__init__(**kwargs)\n",
    "        \n",
    "        self.supports_masking = True\n",
    "        self.bias       = bias\n",
    "        self.hidden_dim = hidden_dim\n",
    "        self.seq_len    = seq_len\n",
    "        \n",
    "        weight = torch.zeros(hidden_dim, 1)\n",
    "        nn.init.kaiming_uniform_(weight)\n",
    "        \n",
    "        context = torch.zeros(seq_len,seq_len)\n",
    "        nn.init.kaiming_uniform_(context)\n",
    "        \n",
    "        self.context = nn.Parameter(context)\n",
    "        self.weight  = nn.Parameter(weight)\n",
    "        \n",
    "        if bias:\n",
    "            self.b = nn.Parameter(torch.zeros(seq_len))\n",
    "        \n",
    "    def forward(self, x,mask=None):\n",
    "\n",
    "        eij = torch.mm(x.contiguous().view(-1, self.hidden_dim ), self.weight).view(-1,self.seq_len)\n",
    "        if self.bias:\n",
    "            eij = eij + self.b    \n",
    "        eij = torch.tanh(eij)\n",
    "        \n",
    "        eij = torch.mm(eij,self.context)\n",
    "        eij = torch.nn.functional.normalize(eij,p=2.0,dim=0)\n",
    "        a = torch.exp(eij)\n",
    "        \n",
    "        if mask is not None:\n",
    "            a = a * mask\n",
    "\n",
    "        a = a / (torch.sum(a, 1, keepdim=True) + 1e-10)\n",
    "        weighted_input = x * torch.unsqueeze(a, -1)\n",
    "        weighted_input = torch.nn.functional.normalize(weighted_input,p=2.0,dim=0)\n",
    "        \n",
    "        return torch.sum(weighted_input, 1)"
   ]
  },
  {
   "cell_type": "markdown",
   "id": "f8d18314-cd91-4a77-ac9e-a996e32f9f26",
   "metadata": {
    "tags": []
   },
   "source": [
    "### `GRU Classifier` Model as described in the [paper](https://journals.plos.org/ploscompbiol/article?id=10.1371/journal.pcbi.1008943) with added normalization layers\n",
    "<img src=\"gru.png\">"
   ]
  },
  {
   "cell_type": "code",
   "execution_count": 16,
   "id": "38bdfe5d-4dad-457c-b515-3ae4e337af61",
   "metadata": {},
   "outputs": [],
   "source": [
    "class GRU_RNN(nn.Module):\n",
    "\n",
    "    def __init__(self, input_dim, output_dim,hidden_dim,n_layers,att=True,drop_prob=0.000006):\n",
    "        super(GRU_RNN, self).__init__()\n",
    "\n",
    "        self.output_dim = output_dim\n",
    "        self.n_layers   = n_layers\n",
    "        self.hidden_dim = hidden_dim\n",
    "        self.att        = att\n",
    "        \n",
    "        self.gru       = nn.GRU(input_dim,hidden_dim,num_layers=n_layers,dropout=drop_prob,batch_first=True)\n",
    "        self.linear    = nn.Linear(hidden_dim,output_dim)\n",
    "        if att:\n",
    "            self.attention = Attention(hidden_dim, 198)\n",
    "        \n",
    "        self.dropout   = nn.Dropout(0.3)\n",
    "        self.func      = nn.Softmax(dim = -1)\n",
    "\n",
    "    def forward(self, x, hidden,encoder_x=0):\n",
    "        x,hidden = self.gru(x,hidden)\n",
    "\n",
    "        if self.att:\n",
    "            x = self.attention(x)\n",
    "        else:\n",
    "            x = x[:, -1, :]\n",
    "        \n",
    "        x = torch.nn.functional.normalize(x,dim=0)\n",
    "        \n",
    "        x = self.dropout(x)\n",
    "        x = self.linear(x)\n",
    "        sig_out = self.func(x)\n",
    "        \n",
    "        return sig_out, hidden\n",
    "    \n",
    "    def init_hidden(self, batch_size):\n",
    "        weight = next(self.parameters()).data\n",
    "        hidden = weight.new(self.n_layers, batch_size, self.hidden_dim).zero_().to(device)\n",
    "        return hidden"
   ]
  },
  {
   "cell_type": "markdown",
   "id": "782f2153-8768-40da-ad15-a1f3747840e4",
   "metadata": {
    "tags": []
   },
   "source": [
    "## Training (with normalization)"
   ]
  },
  {
   "cell_type": "code",
   "execution_count": 18,
   "id": "80c60a8b-78e7-4de1-b139-94d05c3ef499",
   "metadata": {},
   "outputs": [],
   "source": [
    "def train(epochs,train_loader,net,valid_loader,optimzer,criterion,att=True):\n",
    "    \n",
    "    clip = 3 # gradient clipping\n",
    "    \n",
    "    net.to(device)\n",
    "    net.train()\n",
    "\n",
    "    valid_loss_min = np.Inf \n",
    "    valid_losses = []\n",
    "    train_losses = []\n",
    "    \n",
    "    for e in range(epochs):\n",
    "        num_correct = 0\n",
    "        h = net.init_hidden(batch_size)\n",
    "        train_loss = []\n",
    "        valid_loss = []\n",
    "        \n",
    "        counter = 0\n",
    "        for inputs, labels in train_loader:\n",
    "            counter += 1\n",
    "            if counter == 65:\n",
    "                continue\n",
    "            inputs, labels = inputs.to(device), labels.type(torch.LongTensor).to(device)\n",
    "            h = h.data\n",
    "            net.zero_grad()\n",
    "\n",
    "            output, h = net(inputs, h) \n",
    "            pred = torch.round(output.squeeze()) \n",
    "            top_value, top_index = torch.max(pred,1)\n",
    "            correct_tensor = top_index.eq(labels.float().view_as(top_index))\n",
    "            correct = np.squeeze(correct_tensor.to('cpu').numpy())\n",
    "            num_correct += np.sum(correct)\n",
    "\n",
    "            loss = criterion(output, labels)\n",
    "            loss.backward()\n",
    "            nn.utils.clip_grad_norm_(net.parameters(), clip)\n",
    "            optimizer.step()\n",
    "            train_loss.append(loss.item())\n",
    "\n",
    "\n",
    "\n",
    "        val_h = net.init_hidden(batch_size)\n",
    "        val_losses = []\n",
    "        net.eval()\n",
    "        v_c = 0\n",
    "        for inputs, labels in valid_loader:\n",
    "            v_c += 1\n",
    "            #if (v_c == 14):\n",
    "            #    continue\n",
    "            val_h = val_h.data\n",
    "            inputs, labels = inputs.to(device), labels.type(torch.LongTensor).to(device)\n",
    "\n",
    "            output, val_h = net(inputs, val_h)\n",
    "            pred = torch.round(output.squeeze()) \n",
    "            top_value, top_index = torch.max(pred,1)\n",
    "            correct_tensor = top_index.eq(labels.float().view_as(top_index))\n",
    "            correct = np.squeeze(correct_tensor.to('cpu').numpy())\n",
    "            num_correct += np.sum(correct)\n",
    "\n",
    "            val_loss = criterion(output.squeeze(),labels)\n",
    "            val_losses.append(val_loss.item())\n",
    "            if val_loss.item() <= valid_loss_min:\n",
    "                print('Validation loss decreased ({:.6f} --> {:.6f}).  Saving model ...'.format(valid_loss_min, val_loss.item()))\n",
    "                if att:\n",
    "                    torch.save(net.state_dict(), 'RNN_GRU_Att.pt')\n",
    "                else:\n",
    "                    torch.save(net.state_dict(), 'RNN_GRU.pt')\n",
    "                valid_loss_min = val_loss.item()\n",
    "\n",
    "        net.train()\n",
    "        valid_losses.append(np.mean(val_losses))\n",
    "        train_losses.append(np.mean(train_loss))\n",
    "        \n",
    "        print('Epoch: {}/{} \\tTraining Loss: {:.6f} \\tValidation Loss: {:.6f}'.format(e+1,epochs,np.mean(train_loss),np.mean(val_losses)))\n",
    "    return train_losses,valid_losses "
   ]
  },
  {
   "cell_type": "code",
   "execution_count": 19,
   "id": "f7f4a78c-9568-4b03-905b-e41dd00c79e2",
   "metadata": {},
   "outputs": [],
   "source": [
    "epochs     = 55\n",
    "input_dim  = 300\n",
    "hidden_dim = 32\n",
    "output_dim = 15\n",
    "n_layers   = 2\n",
    "lr         = 0.006"
   ]
  },
  {
   "cell_type": "markdown",
   "id": "cb106ebb-8426-416c-ada2-830c039d2ed3",
   "metadata": {},
   "source": [
    "### Training with Attention Layer"
   ]
  },
  {
   "cell_type": "code",
   "execution_count": 29,
   "id": "57404114-18e9-4aa3-bd8d-083439bb501f",
   "metadata": {},
   "outputs": [
    {
     "name": "stdout",
     "output_type": "stream",
     "text": [
      "GRU_RNN(\n",
      "  (gru): GRU(300, 32, num_layers=2, batch_first=True, dropout=6e-06)\n",
      "  (linear): Linear(in_features=32, out_features=15, bias=True)\n",
      "  (attention): Attention()\n",
      "  (dropout): Dropout(p=0.3, inplace=False)\n",
      "  (func): Softmax(dim=-1)\n",
      ")\n"
     ]
    }
   ],
   "source": [
    "model     = GRU_RNN(input_dim, output_dim, hidden_dim, n_layers)\n",
    "optimizer = torch.optim.Adam(model.parameters(), lr=lr)\n",
    "criterion = nn.CrossEntropyLoss()\n",
    "print(model)"
   ]
  },
  {
   "cell_type": "code",
   "execution_count": 21,
   "id": "3fba8d73-163a-442f-80ca-03fa23f00d11",
   "metadata": {},
   "outputs": [
    {
     "name": "stdout",
     "output_type": "stream",
     "text": [
      "Validation loss decreased (inf --> 2.557632).  Saving model ...\n",
      "Validation loss decreased (2.557632 --> 2.501336).  Saving model ...\n",
      "Validation loss decreased (2.501336 --> 2.464465).  Saving model ...\n",
      "Validation loss decreased (2.464465 --> 2.400706).  Saving model ...\n",
      "Epoch: 1/55 \tTraining Loss: 2.611285 \tValidation Loss: 2.519824\n",
      "Validation loss decreased (2.400706 --> 2.349122).  Saving model ...\n",
      "Validation loss decreased (2.349122 --> 2.345047).  Saving model ...\n",
      "Epoch: 2/55 \tTraining Loss: 2.460848 \tValidation Loss: 2.396085\n",
      "Validation loss decreased (2.345047 --> 2.209366).  Saving model ...\n",
      "Validation loss decreased (2.209366 --> 2.198460).  Saving model ...\n",
      "Epoch: 3/55 \tTraining Loss: 2.351349 \tValidation Loss: 2.301972\n",
      "Validation loss decreased (2.198460 --> 2.188189).  Saving model ...\n",
      "Validation loss decreased (2.188189 --> 2.167447).  Saving model ...\n",
      "Validation loss decreased (2.167447 --> 2.156803).  Saving model ...\n",
      "Epoch: 4/55 \tTraining Loss: 2.276073 \tValidation Loss: 2.230465\n",
      "Validation loss decreased (2.156803 --> 2.133531).  Saving model ...\n",
      "Validation loss decreased (2.133531 --> 2.112830).  Saving model ...\n",
      "Validation loss decreased (2.112830 --> 2.079767).  Saving model ...\n",
      "Validation loss decreased (2.079767 --> 2.046438).  Saving model ...\n",
      "Epoch: 5/55 \tTraining Loss: 2.174148 \tValidation Loss: 2.115372\n",
      "Validation loss decreased (2.046438 --> 2.042985).  Saving model ...\n",
      "Validation loss decreased (2.042985 --> 2.016729).  Saving model ...\n",
      "Validation loss decreased (2.016729 --> 2.000793).  Saving model ...\n",
      "Validation loss decreased (2.000793 --> 1.993459).  Saving model ...\n",
      "Epoch: 6/55 \tTraining Loss: 2.100753 \tValidation Loss: 2.065572\n",
      "Validation loss decreased (1.993459 --> 1.986823).  Saving model ...\n",
      "Validation loss decreased (1.986823 --> 1.965315).  Saving model ...\n",
      "Validation loss decreased (1.965315 --> 1.963359).  Saving model ...\n",
      "Epoch: 7/55 \tTraining Loss: 2.059760 \tValidation Loss: 2.041926\n",
      "Validation loss decreased (1.963359 --> 1.943046).  Saving model ...\n",
      "Epoch: 8/55 \tTraining Loss: 2.038361 \tValidation Loss: 2.029270\n",
      "Validation loss decreased (1.943046 --> 1.908829).  Saving model ...\n",
      "Epoch: 9/55 \tTraining Loss: 2.024466 \tValidation Loss: 2.019448\n",
      "Epoch: 10/55 \tTraining Loss: 2.015960 \tValidation Loss: 2.008377\n",
      "Validation loss decreased (1.908829 --> 1.892188).  Saving model ...\n",
      "Epoch: 11/55 \tTraining Loss: 2.008539 \tValidation Loss: 2.001390\n",
      "Epoch: 12/55 \tTraining Loss: 1.995651 \tValidation Loss: 1.975545\n",
      "Epoch: 13/55 \tTraining Loss: 1.969129 \tValidation Loss: 1.959873\n",
      "Validation loss decreased (1.892188 --> 1.880734).  Saving model ...\n",
      "Validation loss decreased (1.880734 --> 1.847991).  Saving model ...\n",
      "Epoch: 14/55 \tTraining Loss: 1.951198 \tValidation Loss: 1.942628\n",
      "Epoch: 15/55 \tTraining Loss: 1.922700 \tValidation Loss: 1.928296\n",
      "Validation loss decreased (1.847991 --> 1.846954).  Saving model ...\n",
      "Epoch: 16/55 \tTraining Loss: 1.902646 \tValidation Loss: 1.911614\n",
      "Validation loss decreased (1.846954 --> 1.846504).  Saving model ...\n",
      "Validation loss decreased (1.846504 --> 1.844586).  Saving model ...\n",
      "Epoch: 17/55 \tTraining Loss: 1.889792 \tValidation Loss: 1.902765\n",
      "Validation loss decreased (1.844586 --> 1.835119).  Saving model ...\n",
      "Epoch: 18/55 \tTraining Loss: 1.875224 \tValidation Loss: 1.898507\n",
      "Validation loss decreased (1.835119 --> 1.829168).  Saving model ...\n",
      "Epoch: 19/55 \tTraining Loss: 1.873816 \tValidation Loss: 1.891639\n",
      "Validation loss decreased (1.829168 --> 1.822830).  Saving model ...\n",
      "Epoch: 20/55 \tTraining Loss: 1.865225 \tValidation Loss: 1.886594\n",
      "Epoch: 21/55 \tTraining Loss: 1.862431 \tValidation Loss: 1.886481\n",
      "Validation loss decreased (1.822830 --> 1.822247).  Saving model ...\n",
      "Epoch: 22/55 \tTraining Loss: 1.861936 \tValidation Loss: 1.887829\n",
      "Validation loss decreased (1.822247 --> 1.820433).  Saving model ...\n",
      "Epoch: 23/55 \tTraining Loss: 1.860913 \tValidation Loss: 1.883295\n",
      "Epoch: 24/55 \tTraining Loss: 1.858867 \tValidation Loss: 1.881072\n",
      "Epoch: 25/55 \tTraining Loss: 1.858096 \tValidation Loss: 1.884121\n",
      "Epoch: 26/55 \tTraining Loss: 1.856932 \tValidation Loss: 1.880588\n",
      "Validation loss decreased (1.820433 --> 1.820152).  Saving model ...\n",
      "Epoch: 27/55 \tTraining Loss: 1.856941 \tValidation Loss: 1.879658\n",
      "Validation loss decreased (1.820152 --> 1.819162).  Saving model ...\n",
      "Epoch: 28/55 \tTraining Loss: 1.856160 \tValidation Loss: 1.879847\n",
      "Epoch: 29/55 \tTraining Loss: 1.855762 \tValidation Loss: 1.880640\n",
      "Epoch: 30/55 \tTraining Loss: 1.855584 \tValidation Loss: 1.877967\n",
      "Epoch: 31/55 \tTraining Loss: 1.855051 \tValidation Loss: 1.875694\n",
      "Epoch: 32/55 \tTraining Loss: 1.853826 \tValidation Loss: 1.870545\n",
      "Epoch: 33/55 \tTraining Loss: 1.837792 \tValidation Loss: 1.859686\n",
      "Epoch: 34/55 \tTraining Loss: 1.851510 \tValidation Loss: 1.912395\n",
      "Epoch: 35/55 \tTraining Loss: 1.917076 \tValidation Loss: 1.905472\n",
      "Epoch: 36/55 \tTraining Loss: 1.889705 \tValidation Loss: 1.881528\n",
      "Epoch: 37/55 \tTraining Loss: 1.858570 \tValidation Loss: 1.875784\n",
      "Epoch: 38/55 \tTraining Loss: 1.843990 \tValidation Loss: 1.858869\n",
      "Epoch: 39/55 \tTraining Loss: 1.835038 \tValidation Loss: 1.855808\n",
      "Epoch: 40/55 \tTraining Loss: 1.829710 \tValidation Loss: 1.848768\n",
      "Epoch: 41/55 \tTraining Loss: 1.828127 \tValidation Loss: 1.847426\n",
      "Epoch: 42/55 \tTraining Loss: 1.826658 \tValidation Loss: 1.850303\n",
      "Epoch: 43/55 \tTraining Loss: 1.825976 \tValidation Loss: 1.844425\n",
      "Validation loss decreased (1.819162 --> 1.817579).  Saving model ...\n",
      "Epoch: 44/55 \tTraining Loss: 1.824646 \tValidation Loss: 1.842137\n",
      "Epoch: 45/55 \tTraining Loss: 1.822379 \tValidation Loss: 1.840508\n",
      "Epoch: 46/55 \tTraining Loss: 1.820776 \tValidation Loss: 1.838437\n",
      "Validation loss decreased (1.817579 --> 1.817509).  Saving model ...\n",
      "Epoch: 47/55 \tTraining Loss: 1.820664 \tValidation Loss: 1.839246\n",
      "Epoch: 48/55 \tTraining Loss: 1.819858 \tValidation Loss: 1.836959\n",
      "Epoch: 49/55 \tTraining Loss: 1.819425 \tValidation Loss: 1.838656\n",
      "Validation loss decreased (1.817509 --> 1.817457).  Saving model ...\n",
      "Epoch: 50/55 \tTraining Loss: 1.819623 \tValidation Loss: 1.838742\n",
      "Epoch: 51/55 \tTraining Loss: 1.819236 \tValidation Loss: 1.838902\n",
      "Epoch: 52/55 \tTraining Loss: 1.819629 \tValidation Loss: 1.838187\n",
      "Validation loss decreased (1.817457 --> 1.817129).  Saving model ...\n",
      "Epoch: 53/55 \tTraining Loss: 1.820474 \tValidation Loss: 1.841251\n",
      "Epoch: 54/55 \tTraining Loss: 1.821646 \tValidation Loss: 1.844284\n",
      "Epoch: 55/55 \tTraining Loss: 1.821784 \tValidation Loss: 1.841849\n"
     ]
    }
   ],
   "source": [
    "train_losses,valid_losses = train(epochs,train_loader,model,valid_loader,optimizer,criterion)"
   ]
  },
  {
   "cell_type": "markdown",
   "id": "d451cfb4-c60d-4dad-bfd8-75f2d64f28c4",
   "metadata": {},
   "source": [
    "### Training without Attention Layer"
   ]
  },
  {
   "cell_type": "code",
   "execution_count": 22,
   "id": "c1f49059-0f50-4109-9915-be4c571c76ee",
   "metadata": {},
   "outputs": [
    {
     "name": "stdout",
     "output_type": "stream",
     "text": [
      "GRU_RNN(\n",
      "  (gru): GRU(300, 32, num_layers=2, batch_first=True, dropout=6e-06)\n",
      "  (linear): Linear(in_features=32, out_features=15, bias=True)\n",
      "  (dropout): Dropout(p=0.3, inplace=False)\n",
      "  (func): Softmax(dim=-1)\n",
      ")\n"
     ]
    }
   ],
   "source": [
    "model     = GRU_RNN(input_dim, output_dim, hidden_dim, n_layers,att=False)\n",
    "optimizer = torch.optim.Adam(model.parameters(), lr=lr)\n",
    "criterion = nn.CrossEntropyLoss()\n",
    "print(model)"
   ]
  },
  {
   "cell_type": "code",
   "execution_count": 23,
   "id": "a46164b3-eeba-414b-a5d9-49b7f6561421",
   "metadata": {},
   "outputs": [
    {
     "name": "stdout",
     "output_type": "stream",
     "text": [
      "Validation loss decreased (inf --> 2.624413).  Saving model ...\n",
      "Validation loss decreased (2.624413 --> 2.608510).  Saving model ...\n",
      "Validation loss decreased (2.608510 --> 2.491987).  Saving model ...\n",
      "Epoch: 1/55 \tTraining Loss: 2.641752 \tValidation Loss: 2.568219\n",
      "Validation loss decreased (2.491987 --> 2.458630).  Saving model ...\n",
      "Validation loss decreased (2.458630 --> 2.414591).  Saving model ...\n",
      "Validation loss decreased (2.414591 --> 2.306006).  Saving model ...\n",
      "Epoch: 2/55 \tTraining Loss: 2.503880 \tValidation Loss: 2.443332\n",
      "Validation loss decreased (2.306006 --> 2.283928).  Saving model ...\n",
      "Validation loss decreased (2.283928 --> 2.273599).  Saving model ...\n",
      "Validation loss decreased (2.273599 --> 2.200151).  Saving model ...\n",
      "Epoch: 3/55 \tTraining Loss: 2.387059 \tValidation Loss: 2.371756\n",
      "Epoch: 4/55 \tTraining Loss: 2.326022 \tValidation Loss: 2.341955\n",
      "Validation loss decreased (2.200151 --> 2.188531).  Saving model ...\n",
      "Validation loss decreased (2.188531 --> 2.177057).  Saving model ...\n",
      "Epoch: 5/55 \tTraining Loss: 2.286469 \tValidation Loss: 2.289101\n",
      "Validation loss decreased (2.177057 --> 2.166954).  Saving model ...\n",
      "Validation loss decreased (2.166954 --> 2.152951).  Saving model ...\n",
      "Epoch: 6/55 \tTraining Loss: 2.227106 \tValidation Loss: 2.230731\n",
      "Validation loss decreased (2.152951 --> 2.098884).  Saving model ...\n",
      "Validation loss decreased (2.098884 --> 2.097484).  Saving model ...\n",
      "Validation loss decreased (2.097484 --> 2.070110).  Saving model ...\n",
      "Epoch: 7/55 \tTraining Loss: 2.176078 \tValidation Loss: 2.194751\n",
      "Epoch: 8/55 \tTraining Loss: 2.139510 \tValidation Loss: 2.154583\n",
      "Validation loss decreased (2.070110 --> 2.037787).  Saving model ...\n",
      "Epoch: 9/55 \tTraining Loss: 2.115802 \tValidation Loss: 2.151004\n",
      "Epoch: 10/55 \tTraining Loss: 2.094192 \tValidation Loss: 2.146936\n",
      "Validation loss decreased (2.037787 --> 2.025309).  Saving model ...\n",
      "Validation loss decreased (2.025309 --> 2.015933).  Saving model ...\n",
      "Validation loss decreased (2.015933 --> 1.999208).  Saving model ...\n",
      "Epoch: 11/55 \tTraining Loss: 2.073209 \tValidation Loss: 2.118687\n",
      "Epoch: 12/55 \tTraining Loss: 2.068583 \tValidation Loss: 2.133625\n",
      "Validation loss decreased (1.999208 --> 1.979575).  Saving model ...\n",
      "Epoch: 13/55 \tTraining Loss: 2.065075 \tValidation Loss: 2.121550\n",
      "Epoch: 14/55 \tTraining Loss: 2.069112 \tValidation Loss: 2.125355\n",
      "Validation loss decreased (1.979575 --> 1.945145).  Saving model ...\n",
      "Epoch: 15/55 \tTraining Loss: 2.067485 \tValidation Loss: 2.126611\n",
      "Epoch: 16/55 \tTraining Loss: 2.046535 \tValidation Loss: 2.097579\n",
      "Epoch: 17/55 \tTraining Loss: 2.034111 \tValidation Loss: 2.086860\n",
      "Validation loss decreased (1.945145 --> 1.921752).  Saving model ...\n",
      "Epoch: 18/55 \tTraining Loss: 2.023067 \tValidation Loss: 2.083885\n",
      "Epoch: 19/55 \tTraining Loss: 2.012405 \tValidation Loss: 2.079399\n",
      "Epoch: 20/55 \tTraining Loss: 2.000204 \tValidation Loss: 2.065800\n",
      "Epoch: 21/55 \tTraining Loss: 1.983991 \tValidation Loss: 2.045197\n",
      "Epoch: 22/55 \tTraining Loss: 1.957093 \tValidation Loss: 2.042332\n",
      "Epoch: 23/55 \tTraining Loss: 1.968855 \tValidation Loss: 2.055035\n",
      "Epoch: 24/55 \tTraining Loss: 1.972833 \tValidation Loss: 2.059683\n",
      "Epoch: 25/55 \tTraining Loss: 1.991431 \tValidation Loss: 2.070982\n",
      "Epoch: 26/55 \tTraining Loss: 1.999834 \tValidation Loss: 2.049399\n",
      "Epoch: 27/55 \tTraining Loss: 1.970423 \tValidation Loss: 2.041591\n",
      "Epoch: 28/55 \tTraining Loss: 1.956919 \tValidation Loss: 2.048674\n",
      "Validation loss decreased (1.921752 --> 1.907688).  Saving model ...\n",
      "Epoch: 29/55 \tTraining Loss: 1.950946 \tValidation Loss: 2.043836\n",
      "Epoch: 30/55 \tTraining Loss: 1.949682 \tValidation Loss: 2.042138\n",
      "Epoch: 31/55 \tTraining Loss: 1.928608 \tValidation Loss: 2.031726\n",
      "Validation loss decreased (1.907688 --> 1.903350).  Saving model ...\n",
      "Epoch: 32/55 \tTraining Loss: 1.928200 \tValidation Loss: 2.029440\n",
      "Epoch: 33/55 \tTraining Loss: 1.932252 \tValidation Loss: 2.036808\n",
      "Validation loss decreased (1.903350 --> 1.900566).  Saving model ...\n",
      "Epoch: 34/55 \tTraining Loss: 1.934156 \tValidation Loss: 2.034401\n",
      "Validation loss decreased (1.900566 --> 1.874439).  Saving model ...\n",
      "Epoch: 35/55 \tTraining Loss: 1.933573 \tValidation Loss: 2.033260\n",
      "Epoch: 36/55 \tTraining Loss: 1.945077 \tValidation Loss: 2.039632\n",
      "Epoch: 37/55 \tTraining Loss: 1.946042 \tValidation Loss: 2.041117\n",
      "Epoch: 38/55 \tTraining Loss: 1.952741 \tValidation Loss: 2.048495\n",
      "Epoch: 39/55 \tTraining Loss: 1.953005 \tValidation Loss: 2.037797\n",
      "Epoch: 40/55 \tTraining Loss: 1.942412 \tValidation Loss: 2.024738\n",
      "Epoch: 41/55 \tTraining Loss: 1.925420 \tValidation Loss: 2.036196\n",
      "Epoch: 42/55 \tTraining Loss: 1.940638 \tValidation Loss: 2.052473\n",
      "Epoch: 43/55 \tTraining Loss: 1.944556 \tValidation Loss: 2.072813\n",
      "Epoch: 44/55 \tTraining Loss: 1.946825 \tValidation Loss: 2.050343\n",
      "Epoch: 45/55 \tTraining Loss: 1.958241 \tValidation Loss: 2.051513\n",
      "Epoch: 46/55 \tTraining Loss: 1.959062 \tValidation Loss: 2.048151\n",
      "Epoch: 47/55 \tTraining Loss: 1.949183 \tValidation Loss: 2.062177\n",
      "Epoch: 48/55 \tTraining Loss: 1.944623 \tValidation Loss: 2.036539\n",
      "Epoch: 49/55 \tTraining Loss: 1.941807 \tValidation Loss: 2.025142\n",
      "Validation loss decreased (1.874439 --> 1.849910).  Saving model ...\n",
      "Epoch: 50/55 \tTraining Loss: 1.929951 \tValidation Loss: 2.013592\n",
      "Epoch: 51/55 \tTraining Loss: 1.937417 \tValidation Loss: 2.047096\n",
      "Epoch: 52/55 \tTraining Loss: 1.951193 \tValidation Loss: 2.040460\n",
      "Epoch: 53/55 \tTraining Loss: 1.944661 \tValidation Loss: 2.050006\n",
      "Epoch: 54/55 \tTraining Loss: 1.947667 \tValidation Loss: 2.045703\n",
      "Epoch: 55/55 \tTraining Loss: 1.950289 \tValidation Loss: 2.053404\n"
     ]
    }
   ],
   "source": [
    "train_losses,valid_losses = train(epochs,train_loader,model,valid_loader,optimizer,criterion,att=False)"
   ]
  },
  {
   "cell_type": "markdown",
   "id": "ca13d955-6efa-41c1-af86-a269d3c19e65",
   "metadata": {
    "tags": []
   },
   "source": [
    "## Testing (with normalization)"
   ]
  },
  {
   "cell_type": "code",
   "execution_count": 24,
   "id": "274e26e7-26be-44fb-864a-29508d82fba9",
   "metadata": {},
   "outputs": [],
   "source": [
    "def test(test_loader,net):\n",
    "    v_c = 0\n",
    "    net.eval()\n",
    "    net.to(device)\n",
    "    num_correct = 0\n",
    "    valid_acc = 0\n",
    "    h = net.init_hidden(batch_size)\n",
    "    for inputs, labels in test_loader:\n",
    "        v_c += 1\n",
    "        if (v_c == 65):\n",
    "            continue\n",
    "        h = h.data\n",
    "        inputs, labels = inputs.to(device), labels.type(torch.LongTensor).to(device)\n",
    "\n",
    "        output, h = net(inputs, h)\n",
    "\n",
    "        pred = torch.round(output.squeeze()) \n",
    "        top_value, top_index = torch.max(pred,1)\n",
    "        correct_tensor = top_index.eq(labels.float().view_as(top_index))\n",
    "        correct = np.squeeze(correct_tensor.to('cpu').numpy())\n",
    "        num_correct += np.sum(correct)\n",
    "    \n",
    "    test_acc = num_correct/len(test_loader.dataset)\n",
    "    print(\"Test accuracy: {:.3f}\".format(test_acc))"
   ]
  },
  {
   "cell_type": "markdown",
   "id": "91f9273c-b2bc-4934-9e2b-0e0d9a74e0d7",
   "metadata": {},
   "source": [
    "### Accuracy with Attention Layer"
   ]
  },
  {
   "cell_type": "code",
   "execution_count": 41,
   "id": "e38fa47f-8036-4646-ad00-2e022d9df2a4",
   "metadata": {},
   "outputs": [
    {
     "data": {
      "text/plain": [
       "<All keys matched successfully>"
      ]
     },
     "execution_count": 41,
     "metadata": {},
     "output_type": "execute_result"
    }
   ],
   "source": [
    "model.load_state_dict(torch.load('RNN_GRU_Att.pt'))"
   ]
  },
  {
   "cell_type": "code",
   "execution_count": 42,
   "id": "cbd08da8-e8cf-4c73-8774-5493094a744b",
   "metadata": {},
   "outputs": [
    {
     "name": "stdout",
     "output_type": "stream",
     "text": [
      "Test accuracy: 0.965\n"
     ]
    }
   ],
   "source": [
    "test(test_loader,model)"
   ]
  },
  {
   "cell_type": "markdown",
   "id": "1d52f2a7-eb3e-4b5b-8450-2b105fc9ef0c",
   "metadata": {},
   "source": [
    "### Accuracy without Attention Layer"
   ]
  },
  {
   "cell_type": "code",
   "execution_count": 27,
   "id": "5e7ae841-f3ea-4c57-839c-a93409fea501",
   "metadata": {},
   "outputs": [
    {
     "data": {
      "text/plain": [
       "<All keys matched successfully>"
      ]
     },
     "execution_count": 27,
     "metadata": {},
     "output_type": "execute_result"
    }
   ],
   "source": [
    "model.load_state_dict(torch.load('RNN_GRU.pt'))"
   ]
  },
  {
   "cell_type": "code",
   "execution_count": 28,
   "id": "a8dd6562-1f7f-4278-9400-7c2de56a17e4",
   "metadata": {},
   "outputs": [
    {
     "name": "stdout",
     "output_type": "stream",
     "text": [
      "Test accuracy: 0.801\n"
     ]
    }
   ],
   "source": [
    "test(test_loader,model)"
   ]
  },
  {
   "cell_type": "markdown",
   "id": "ca5d8b39-306a-4c53-97ad-dade7a5f6080",
   "metadata": {
    "tags": []
   },
   "source": [
    "## Conclusion\n",
    "\n",
    "Adding an Attention Layer has increased the model accuracy as expected.\n",
    "The model furthur can be extended/improved by using other methods such as `transformers`"
   ]
  }
 ],
 "metadata": {
  "kernelspec": {
   "display_name": "Python 3 (ipykernel)",
   "language": "python",
   "name": "python3"
  },
  "language_info": {
   "codemirror_mode": {
    "name": "ipython",
    "version": 3
   },
   "file_extension": ".py",
   "mimetype": "text/x-python",
   "name": "python",
   "nbconvert_exporter": "python",
   "pygments_lexer": "ipython3",
   "version": "3.9.12"
  }
 },
 "nbformat": 4,
 "nbformat_minor": 5
}
